{
 "cells": [
  {
   "cell_type": "code",
   "execution_count": 3,
   "metadata": {},
   "outputs": [],
   "source": [
    "import pandas as pd\n",
    "import gzip\n",
    "import ast\n",
    "import json\n",
    "#from funciones import missing_values_table\n",
    "import matplotlib.pyplot as plt\n",
    "import seaborn as sns\n",
    "import math\n",
    "import numpy as np\n",
    "import warnings"
   ]
  },
  {
   "cell_type": "markdown",
   "metadata": {},
   "source": [
    "# Funciones"
   ]
  },
  {
   "cell_type": "code",
   "execution_count": 2,
   "metadata": {},
   "outputs": [],
   "source": [
    "def missing_values_table(df):\n",
    "    '''\n",
    "    Se pasa como parametro un df de pandas, devuelve la \n",
    "    cantidad de valores NaN y a que porcentaje del total de valores corresponen\n",
    "    \n",
    "    '''\n",
    "    \n",
    "    mis_val = df.isna().sum()\n",
    "    mis_val_percent = 100 * df.isna().sum() / len(df)\n",
    "    mis_val_table = pd.concat([mis_val, mis_val_percent], axis=1)\n",
    "    mis_val_table_ren_columns = mis_val_table.rename(\n",
    "    columns = {0 : 'Missing Values', 1 : '% of Total Values'})\n",
    "    mis_val_table_ren_columns = mis_val_table_ren_columns[\n",
    "        mis_val_table_ren_columns.iloc[:,1] != 0].sort_values(\n",
    "    '% of Total Values', ascending=False).round(1)\n",
    "    print (\"Your selected dataframe has \" + str(df.shape[1]) + \" columns.\\n\"      \n",
    "        \"There are \" + str(mis_val_table_ren_columns.shape[0]) +\n",
    "            \" columns that have missing values.\")\n",
    "    return mis_val_table_ren_columns"
   ]
  },
  {
   "cell_type": "markdown",
   "metadata": {},
   "source": [
    "# 1 Extraccion"
   ]
  },
  {
   "cell_type": "markdown",
   "metadata": {},
   "source": [
    "GAMES"
   ]
  },
  {
   "cell_type": "code",
   "execution_count": 3,
   "metadata": {},
   "outputs": [],
   "source": [
    "# Lista para almacenar los datos JSON\n",
    "datos = []\n",
    "\n",
    "# Abrir el archivo comprimido y descomprimirlo\n",
    "with gzip.open(r'./Dataset/steam_games.json.gz', 'rt', encoding='utf-8') as archivo:\n",
    "    for linea in archivo:\n",
    "        objeto_json = json.loads(linea)\n",
    "        datos.append(objeto_json)\n",
    "\n",
    "df_games=pd.DataFrame(datos)"
   ]
  },
  {
   "cell_type": "code",
   "execution_count": 4,
   "metadata": {},
   "outputs": [
    {
     "data": {
      "text/html": [
       "<div>\n",
       "<style scoped>\n",
       "    .dataframe tbody tr th:only-of-type {\n",
       "        vertical-align: middle;\n",
       "    }\n",
       "\n",
       "    .dataframe tbody tr th {\n",
       "        vertical-align: top;\n",
       "    }\n",
       "\n",
       "    .dataframe thead th {\n",
       "        text-align: right;\n",
       "    }\n",
       "</style>\n",
       "<table border=\"1\" class=\"dataframe\">\n",
       "  <thead>\n",
       "    <tr style=\"text-align: right;\">\n",
       "      <th></th>\n",
       "      <th>publisher</th>\n",
       "      <th>genres</th>\n",
       "      <th>app_name</th>\n",
       "      <th>title</th>\n",
       "      <th>url</th>\n",
       "      <th>release_date</th>\n",
       "      <th>tags</th>\n",
       "      <th>reviews_url</th>\n",
       "      <th>specs</th>\n",
       "      <th>price</th>\n",
       "      <th>early_access</th>\n",
       "      <th>id</th>\n",
       "      <th>developer</th>\n",
       "    </tr>\n",
       "  </thead>\n",
       "  <tbody>\n",
       "    <tr>\n",
       "      <th>120440</th>\n",
       "      <td>Ghost_RUS Games</td>\n",
       "      <td>[Casual, Indie, Simulation, Strategy]</td>\n",
       "      <td>Colony On Mars</td>\n",
       "      <td>Colony On Mars</td>\n",
       "      <td>http://store.steampowered.com/app/773640/Colon...</td>\n",
       "      <td>2018-01-04</td>\n",
       "      <td>[Strategy, Indie, Casual, Simulation]</td>\n",
       "      <td>http://steamcommunity.com/app/773640/reviews/?...</td>\n",
       "      <td>[Single-player, Steam Achievements]</td>\n",
       "      <td>1.99</td>\n",
       "      <td>False</td>\n",
       "      <td>773640</td>\n",
       "      <td>Nikita \"Ghost_RUS\"</td>\n",
       "    </tr>\n",
       "    <tr>\n",
       "      <th>120441</th>\n",
       "      <td>Sacada</td>\n",
       "      <td>[Casual, Indie, Strategy]</td>\n",
       "      <td>LOGistICAL: South Africa</td>\n",
       "      <td>LOGistICAL: South Africa</td>\n",
       "      <td>http://store.steampowered.com/app/733530/LOGis...</td>\n",
       "      <td>2018-01-04</td>\n",
       "      <td>[Strategy, Indie, Casual]</td>\n",
       "      <td>http://steamcommunity.com/app/733530/reviews/?...</td>\n",
       "      <td>[Single-player, Steam Achievements, Steam Clou...</td>\n",
       "      <td>4.99</td>\n",
       "      <td>False</td>\n",
       "      <td>733530</td>\n",
       "      <td>Sacada</td>\n",
       "    </tr>\n",
       "    <tr>\n",
       "      <th>120442</th>\n",
       "      <td>Laush Studio</td>\n",
       "      <td>[Indie, Racing, Simulation]</td>\n",
       "      <td>Russian Roads</td>\n",
       "      <td>Russian Roads</td>\n",
       "      <td>http://store.steampowered.com/app/610660/Russi...</td>\n",
       "      <td>2018-01-04</td>\n",
       "      <td>[Indie, Simulation, Racing]</td>\n",
       "      <td>http://steamcommunity.com/app/610660/reviews/?...</td>\n",
       "      <td>[Single-player, Steam Achievements, Steam Trad...</td>\n",
       "      <td>1.99</td>\n",
       "      <td>False</td>\n",
       "      <td>610660</td>\n",
       "      <td>Laush Dmitriy Sergeevich</td>\n",
       "    </tr>\n",
       "    <tr>\n",
       "      <th>120443</th>\n",
       "      <td>SIXNAILS</td>\n",
       "      <td>[Casual, Indie]</td>\n",
       "      <td>EXIT 2 - Directions</td>\n",
       "      <td>EXIT 2 - Directions</td>\n",
       "      <td>http://store.steampowered.com/app/658870/EXIT_...</td>\n",
       "      <td>2017-09-02</td>\n",
       "      <td>[Indie, Casual, Puzzle, Singleplayer, Atmosphe...</td>\n",
       "      <td>http://steamcommunity.com/app/658870/reviews/?...</td>\n",
       "      <td>[Single-player, Steam Achievements, Steam Cloud]</td>\n",
       "      <td>4.99</td>\n",
       "      <td>False</td>\n",
       "      <td>658870</td>\n",
       "      <td>xropi,stev3ns</td>\n",
       "    </tr>\n",
       "    <tr>\n",
       "      <th>120444</th>\n",
       "      <td>NaN</td>\n",
       "      <td>NaN</td>\n",
       "      <td>Maze Run VR</td>\n",
       "      <td>NaN</td>\n",
       "      <td>http://store.steampowered.com/app/681550/Maze_...</td>\n",
       "      <td>NaN</td>\n",
       "      <td>[Early Access, Adventure, Indie, Action, Simul...</td>\n",
       "      <td>http://steamcommunity.com/app/681550/reviews/?...</td>\n",
       "      <td>[Single-player, Stats, Steam Leaderboards, HTC...</td>\n",
       "      <td>4.99</td>\n",
       "      <td>True</td>\n",
       "      <td>681550</td>\n",
       "      <td>NaN</td>\n",
       "    </tr>\n",
       "  </tbody>\n",
       "</table>\n",
       "</div>"
      ],
      "text/plain": [
       "              publisher                                 genres  \\\n",
       "120440  Ghost_RUS Games  [Casual, Indie, Simulation, Strategy]   \n",
       "120441           Sacada              [Casual, Indie, Strategy]   \n",
       "120442     Laush Studio            [Indie, Racing, Simulation]   \n",
       "120443         SIXNAILS                        [Casual, Indie]   \n",
       "120444              NaN                                    NaN   \n",
       "\n",
       "                        app_name                     title  \\\n",
       "120440            Colony On Mars            Colony On Mars   \n",
       "120441  LOGistICAL: South Africa  LOGistICAL: South Africa   \n",
       "120442             Russian Roads             Russian Roads   \n",
       "120443       EXIT 2 - Directions       EXIT 2 - Directions   \n",
       "120444               Maze Run VR                       NaN   \n",
       "\n",
       "                                                      url release_date  \\\n",
       "120440  http://store.steampowered.com/app/773640/Colon...   2018-01-04   \n",
       "120441  http://store.steampowered.com/app/733530/LOGis...   2018-01-04   \n",
       "120442  http://store.steampowered.com/app/610660/Russi...   2018-01-04   \n",
       "120443  http://store.steampowered.com/app/658870/EXIT_...   2017-09-02   \n",
       "120444  http://store.steampowered.com/app/681550/Maze_...          NaN   \n",
       "\n",
       "                                                     tags  \\\n",
       "120440              [Strategy, Indie, Casual, Simulation]   \n",
       "120441                          [Strategy, Indie, Casual]   \n",
       "120442                        [Indie, Simulation, Racing]   \n",
       "120443  [Indie, Casual, Puzzle, Singleplayer, Atmosphe...   \n",
       "120444  [Early Access, Adventure, Indie, Action, Simul...   \n",
       "\n",
       "                                              reviews_url  \\\n",
       "120440  http://steamcommunity.com/app/773640/reviews/?...   \n",
       "120441  http://steamcommunity.com/app/733530/reviews/?...   \n",
       "120442  http://steamcommunity.com/app/610660/reviews/?...   \n",
       "120443  http://steamcommunity.com/app/658870/reviews/?...   \n",
       "120444  http://steamcommunity.com/app/681550/reviews/?...   \n",
       "\n",
       "                                                    specs price early_access  \\\n",
       "120440                [Single-player, Steam Achievements]  1.99        False   \n",
       "120441  [Single-player, Steam Achievements, Steam Clou...  4.99        False   \n",
       "120442  [Single-player, Steam Achievements, Steam Trad...  1.99        False   \n",
       "120443   [Single-player, Steam Achievements, Steam Cloud]  4.99        False   \n",
       "120444  [Single-player, Stats, Steam Leaderboards, HTC...  4.99         True   \n",
       "\n",
       "            id                 developer  \n",
       "120440  773640        Nikita \"Ghost_RUS\"  \n",
       "120441  733530                    Sacada  \n",
       "120442  610660  Laush Dmitriy Sergeevich  \n",
       "120443  658870             xropi,stev3ns  \n",
       "120444  681550                       NaN  "
      ]
     },
     "execution_count": 4,
     "metadata": {},
     "output_type": "execute_result"
    }
   ],
   "source": [
    "df_games.tail()"
   ]
  },
  {
   "cell_type": "code",
   "execution_count": 5,
   "metadata": {},
   "outputs": [],
   "source": [
    "df_games.to_csv('./games.csv', index=False)"
   ]
  },
  {
   "cell_type": "code",
   "execution_count": 6,
   "metadata": {},
   "outputs": [
    {
     "name": "stderr",
     "output_type": "stream",
     "text": [
      "C:\\Users\\rodrigo\\AppData\\Local\\Temp\\ipykernel_16112\\3245143393.py:1: DtypeWarning: Columns (0,3) have mixed types. Specify dtype option on import or set low_memory=False.\n",
      "  df_items = pd.read_csv(r\"items.csv\")\n",
      "C:\\Users\\rodrigo\\AppData\\Local\\Temp\\ipykernel_16112\\3245143393.py:3: DtypeWarning: Columns (0,1,2,3,4,5,6,7,8,9,10,12) have mixed types. Specify dtype option on import or set low_memory=False.\n",
      "  df_games = pd.read_csv(r\"games.csv\")\n"
     ]
    }
   ],
   "source": [
    "df_items = pd.read_csv(r\"items.csv\")\n",
    "df_reviews = pd.read_csv(r\"reviews.csv\")\n",
    "df_games = pd.read_csv(r\"games.csv\")"
   ]
  },
  {
   "cell_type": "markdown",
   "metadata": {},
   "source": [
    "items"
   ]
  },
  {
   "cell_type": "code",
   "execution_count": 11,
   "metadata": {},
   "outputs": [
    {
     "name": "stdout",
     "output_type": "stream",
     "text": [
      "(5153209, 8)\n",
      "<class 'pandas.core.frame.DataFrame'>\n",
      "Index: 5153209 entries, 0 to 5170013\n",
      "Data columns (total 8 columns):\n",
      " #   Column            Dtype  \n",
      "---  ------            -----  \n",
      " 0   user_id           object \n",
      " 1   items_count       float64\n",
      " 2   steam_id          float64\n",
      " 3   user_url          object \n",
      " 4   item_id           float64\n",
      " 5   item_name         object \n",
      " 6   playtime_forever  float64\n",
      " 7   playtime_2weeks   float64\n",
      "dtypes: float64(5), object(3)\n",
      "memory usage: 353.8+ MB\n"
     ]
    }
   ],
   "source": [
    "print(df_items.shape)\n",
    "df_items.info()"
   ]
  },
  {
   "cell_type": "code",
   "execution_count": 8,
   "metadata": {},
   "outputs": [
    {
     "name": "stdout",
     "output_type": "stream",
     "text": [
      "[1.0000e+01 2.0000e+01 3.0000e+01 ... 3.5428e+05 4.3392e+05 4.8527e+05]\n"
     ]
    }
   ],
   "source": [
    "#chequeamos los valores unicos para hacer replace() y poder cambiar el tipo de datos a uno manipulable.\n",
    "print(pd.unique(df_items['item_id']))"
   ]
  },
  {
   "cell_type": "code",
   "execution_count": 9,
   "metadata": {},
   "outputs": [],
   "source": [
    "# Elimina filas con valores nulos en la columna 'nombre_de_la_columna'\n",
    "df_items = df_items.dropna(subset=['item_id'])"
   ]
  },
  {
   "cell_type": "code",
   "execution_count": 10,
   "metadata": {},
   "outputs": [
    {
     "name": "stdout",
     "output_type": "stream",
     "text": [
      "Your selected dataframe has 8 columns.\n",
      "There are 4 columns that have missing values.\n"
     ]
    },
    {
     "data": {
      "text/html": [
       "<div>\n",
       "<style scoped>\n",
       "    .dataframe tbody tr th:only-of-type {\n",
       "        vertical-align: middle;\n",
       "    }\n",
       "\n",
       "    .dataframe tbody tr th {\n",
       "        vertical-align: top;\n",
       "    }\n",
       "\n",
       "    .dataframe thead th {\n",
       "        text-align: right;\n",
       "    }\n",
       "</style>\n",
       "<table border=\"1\" class=\"dataframe\">\n",
       "  <thead>\n",
       "    <tr style=\"text-align: right;\">\n",
       "      <th></th>\n",
       "      <th>Missing Values</th>\n",
       "      <th>% of Total Values</th>\n",
       "    </tr>\n",
       "  </thead>\n",
       "  <tbody>\n",
       "    <tr>\n",
       "      <th>user_id</th>\n",
       "      <td>5065033</td>\n",
       "      <td>98.3</td>\n",
       "    </tr>\n",
       "    <tr>\n",
       "      <th>items_count</th>\n",
       "      <td>5065033</td>\n",
       "      <td>98.3</td>\n",
       "    </tr>\n",
       "    <tr>\n",
       "      <th>steam_id</th>\n",
       "      <td>5065033</td>\n",
       "      <td>98.3</td>\n",
       "    </tr>\n",
       "    <tr>\n",
       "      <th>user_url</th>\n",
       "      <td>5065033</td>\n",
       "      <td>98.3</td>\n",
       "    </tr>\n",
       "  </tbody>\n",
       "</table>\n",
       "</div>"
      ],
      "text/plain": [
       "             Missing Values  % of Total Values\n",
       "user_id             5065033               98.3\n",
       "items_count         5065033               98.3\n",
       "steam_id            5065033               98.3\n",
       "user_url            5065033               98.3"
      ]
     },
     "execution_count": 10,
     "metadata": {},
     "output_type": "execute_result"
    }
   ],
   "source": [
    "missing_values_table(df_items)"
   ]
  },
  {
   "cell_type": "code",
   "execution_count": 35,
   "metadata": {},
   "outputs": [
    {
     "name": "stdout",
     "output_type": "stream",
     "text": [
      "(10978, 8)\n",
      "10978\n"
     ]
    },
    {
     "data": {
      "text/plain": [
       "<Axes: >"
      ]
     },
     "execution_count": 35,
     "metadata": {},
     "output_type": "execute_result"
    },
    {
     "data": {
      "image/png": "[encoded data removed]",
      "text/plain": [
       "<Figure size 640x480 with 1 Axes>"
      ]
     },
     "metadata": {},
     "output_type": "display_data"
    }
   ],
   "source": [
    "# Supongamos que tienes un DataFrame llamado df y quieres contar los valores únicos en la columna 'user_id':\n",
    "unique_count = df_items['item_id'].nunique()\n",
    "print(df_items.shape)\n",
    "print(unique_count)\n",
    "df_items['item_id'].hist()"
   ]
  },
  {
   "cell_type": "code",
   "execution_count": 34,
   "metadata": {},
   "outputs": [],
   "source": [
    "df_items = df_items.drop_duplicates(subset=['item_id'])#df_items['item_id'].drop_duplicates(inplace=True)"
   ]
  },
  {
   "cell_type": "markdown",
   "metadata": {},
   "source": [
    "reviews"
   ]
  },
  {
   "cell_type": "code",
   "execution_count": 36,
   "metadata": {},
   "outputs": [
    {
     "name": "stdout",
     "output_type": "stream",
     "text": [
      "(59305, 9)\n",
      "<class 'pandas.core.frame.DataFrame'>\n",
      "Index: 59305 entries, 0 to 59332\n",
      "Data columns (total 9 columns):\n",
      " #   Column              Non-Null Count  Dtype  \n",
      "---  ------              --------------  -----  \n",
      " 0   user_id             25790 non-null  object \n",
      " 1   user_url            25790 non-null  object \n",
      " 2   funny               8151 non-null   object \n",
      " 3   posted              59305 non-null  object \n",
      " 4   last_edited         6140 non-null   object \n",
      " 5   item_id             59305 non-null  float64\n",
      " 6   helpful             59305 non-null  object \n",
      " 7   recommend           59305 non-null  object \n",
      " 8   sentiment_analysis  59305 non-null  int64  \n",
      "dtypes: float64(1), int64(1), object(7)\n",
      "memory usage: 4.5+ MB\n"
     ]
    }
   ],
   "source": [
    "print(df_reviews.shape)\n",
    "df_reviews.info()"
   ]
  },
  {
   "cell_type": "code",
   "execution_count": 37,
   "metadata": {},
   "outputs": [
    {
     "name": "stdout",
     "output_type": "stream",
     "text": [
      "[  1250.  22200.  43110. ... 220090. 262850. 431510.]\n"
     ]
    }
   ],
   "source": [
    "#chequeamos los valores unicos para hacer replace() y poder cambiar el tipo de datos a uno manipulable.\n",
    "print(pd.unique(df_reviews['item_id']))"
   ]
  },
  {
   "cell_type": "code",
   "execution_count": 39,
   "metadata": {},
   "outputs": [],
   "source": [
    "# Elimina filas con valores nulos en la columna 'nombre_de_la_columna'\n",
    "df_reviews = df_reviews.dropna(subset=['item_id'])"
   ]
  },
  {
   "cell_type": "code",
   "execution_count": 41,
   "metadata": {},
   "outputs": [
    {
     "name": "stdout",
     "output_type": "stream",
     "text": [
      "Your selected dataframe has 9 columns.\n",
      "There are 4 columns that have missing values.\n"
     ]
    },
    {
     "data": {
      "text/html": [
       "<div>\n",
       "<style scoped>\n",
       "    .dataframe tbody tr th:only-of-type {\n",
       "        vertical-align: middle;\n",
       "    }\n",
       "\n",
       "    .dataframe tbody tr th {\n",
       "        vertical-align: top;\n",
       "    }\n",
       "\n",
       "    .dataframe thead th {\n",
       "        text-align: right;\n",
       "    }\n",
       "</style>\n",
       "<table border=\"1\" class=\"dataframe\">\n",
       "  <thead>\n",
       "    <tr style=\"text-align: right;\">\n",
       "      <th></th>\n",
       "      <th>Missing Values</th>\n",
       "      <th>% of Total Values</th>\n",
       "    </tr>\n",
       "  </thead>\n",
       "  <tbody>\n",
       "    <tr>\n",
       "      <th>last_edited</th>\n",
       "      <td>53165</td>\n",
       "      <td>89.6</td>\n",
       "    </tr>\n",
       "    <tr>\n",
       "      <th>funny</th>\n",
       "      <td>51154</td>\n",
       "      <td>86.3</td>\n",
       "    </tr>\n",
       "    <tr>\n",
       "      <th>user_id</th>\n",
       "      <td>33515</td>\n",
       "      <td>56.5</td>\n",
       "    </tr>\n",
       "    <tr>\n",
       "      <th>user_url</th>\n",
       "      <td>33515</td>\n",
       "      <td>56.5</td>\n",
       "    </tr>\n",
       "  </tbody>\n",
       "</table>\n",
       "</div>"
      ],
      "text/plain": [
       "             Missing Values  % of Total Values\n",
       "last_edited           53165               89.6\n",
       "funny                 51154               86.3\n",
       "user_id               33515               56.5\n",
       "user_url              33515               56.5"
      ]
     },
     "execution_count": 41,
     "metadata": {},
     "output_type": "execute_result"
    }
   ],
   "source": [
    "missing_values_table(df_reviews)"
   ]
  },
  {
   "cell_type": "code",
   "execution_count": 44,
   "metadata": {},
   "outputs": [
    {
     "name": "stdout",
     "output_type": "stream",
     "text": [
      "(3682, 9)\n",
      "3682\n"
     ]
    },
    {
     "data": {
      "text/plain": [
       "<Axes: >"
      ]
     },
     "execution_count": 44,
     "metadata": {},
     "output_type": "execute_result"
    },
    {
     "data": {
      "image/png": "[encoded data removed]",
      "text/plain": [
       "<Figure size 640x480 with 1 Axes>"
      ]
     },
     "metadata": {},
     "output_type": "display_data"
    }
   ],
   "source": [
    "# Supongamos que tienes un DataFrame llamado df y quieres contar los valores únicos en la columna 'user_id':\n",
    "unique_count = df_reviews['item_id'].nunique()\n",
    "print(df_reviews.shape)\n",
    "print(unique_count)\n",
    "df_reviews['item_id'].hist()"
   ]
  },
  {
   "cell_type": "code",
   "execution_count": 43,
   "metadata": {},
   "outputs": [],
   "source": [
    "df_reviews = df_reviews.drop_duplicates(subset=['item_id'])#df_reviews['item_id'].drop_duplicates(inplace=True)"
   ]
  },
  {
   "cell_type": "markdown",
   "metadata": {},
   "source": [
    "games"
   ]
  },
  {
   "cell_type": "code",
   "execution_count": 45,
   "metadata": {},
   "outputs": [
    {
     "name": "stdout",
     "output_type": "stream",
     "text": [
      "(32133, 13)\n",
      "<class 'pandas.core.frame.DataFrame'>\n",
      "Index: 32133 entries, 88310 to 120444\n",
      "Data columns (total 13 columns):\n",
      " #   Column        Non-Null Count  Dtype  \n",
      "---  ------        --------------  -----  \n",
      " 0   publisher     24063 non-null  object \n",
      " 1   genres        28851 non-null  object \n",
      " 2   app_name      32132 non-null  object \n",
      " 3   title         30084 non-null  object \n",
      " 4   url           32133 non-null  object \n",
      " 5   release_date  30067 non-null  object \n",
      " 6   tags          31971 non-null  object \n",
      " 7   reviews_url   32133 non-null  object \n",
      " 8   specs         31464 non-null  object \n",
      " 9   price         30756 non-null  object \n",
      " 10  early_access  32133 non-null  object \n",
      " 11  item_id       32133 non-null  float64\n",
      " 12  developer     28835 non-null  object \n",
      "dtypes: float64(1), object(12)\n",
      "memory usage: 3.4+ MB\n"
     ]
    }
   ],
   "source": [
    "print(df_games.shape)\n",
    "df_games.info()"
   ]
  },
  {
   "cell_type": "code",
   "execution_count": 46,
   "metadata": {},
   "outputs": [
    {
     "name": "stdout",
     "output_type": "stream",
     "text": [
      "[761140. 643980. 670290. ... 610660. 658870. 681550.]\n"
     ]
    }
   ],
   "source": [
    "df_games.rename(columns = {'id':'item_id'}, inplace = True)\n",
    "df_games['item_id'] = pd.to_numeric(df_games['item_id'], errors='coerce')\n",
    "df_games['item_id'] = df_games['item_id'].astype(float) # Convierto a tipo entero\n",
    "#chequeamos los valores unicos para hacer replace() y poder cambiar el tipo de datos a uno manipulable.\n",
    "print(pd.unique(df_games['item_id']))"
   ]
  },
  {
   "cell_type": "code",
   "execution_count": 47,
   "metadata": {},
   "outputs": [],
   "source": [
    "# Elimina filas con valores nulos en la columna 'nombre_de_la_columna'\n",
    "df_games = df_games.dropna(subset=['item_id'])"
   ]
  },
  {
   "cell_type": "code",
   "execution_count": 49,
   "metadata": {},
   "outputs": [
    {
     "name": "stdout",
     "output_type": "stream",
     "text": [
      "Your selected dataframe has 13 columns.\n",
      "There are 9 columns that have missing values.\n"
     ]
    },
    {
     "data": {
      "text/html": [
       "<div>\n",
       "<style scoped>\n",
       "    .dataframe tbody tr th:only-of-type {\n",
       "        vertical-align: middle;\n",
       "    }\n",
       "\n",
       "    .dataframe tbody tr th {\n",
       "        vertical-align: top;\n",
       "    }\n",
       "\n",
       "    .dataframe thead th {\n",
       "        text-align: right;\n",
       "    }\n",
       "</style>\n",
       "<table border=\"1\" class=\"dataframe\">\n",
       "  <thead>\n",
       "    <tr style=\"text-align: right;\">\n",
       "      <th></th>\n",
       "      <th>Missing Values</th>\n",
       "      <th>% of Total Values</th>\n",
       "    </tr>\n",
       "  </thead>\n",
       "  <tbody>\n",
       "    <tr>\n",
       "      <th>publisher</th>\n",
       "      <td>8070</td>\n",
       "      <td>25.1</td>\n",
       "    </tr>\n",
       "    <tr>\n",
       "      <th>developer</th>\n",
       "      <td>3298</td>\n",
       "      <td>10.3</td>\n",
       "    </tr>\n",
       "    <tr>\n",
       "      <th>genres</th>\n",
       "      <td>3282</td>\n",
       "      <td>10.2</td>\n",
       "    </tr>\n",
       "    <tr>\n",
       "      <th>release_date</th>\n",
       "      <td>2066</td>\n",
       "      <td>6.4</td>\n",
       "    </tr>\n",
       "    <tr>\n",
       "      <th>title</th>\n",
       "      <td>2049</td>\n",
       "      <td>6.4</td>\n",
       "    </tr>\n",
       "    <tr>\n",
       "      <th>price</th>\n",
       "      <td>1377</td>\n",
       "      <td>4.3</td>\n",
       "    </tr>\n",
       "    <tr>\n",
       "      <th>specs</th>\n",
       "      <td>669</td>\n",
       "      <td>2.1</td>\n",
       "    </tr>\n",
       "    <tr>\n",
       "      <th>tags</th>\n",
       "      <td>162</td>\n",
       "      <td>0.5</td>\n",
       "    </tr>\n",
       "    <tr>\n",
       "      <th>app_name</th>\n",
       "      <td>1</td>\n",
       "      <td>0.0</td>\n",
       "    </tr>\n",
       "  </tbody>\n",
       "</table>\n",
       "</div>"
      ],
      "text/plain": [
       "              Missing Values  % of Total Values\n",
       "publisher               8070               25.1\n",
       "developer               3298               10.3\n",
       "genres                  3282               10.2\n",
       "release_date            2066                6.4\n",
       "title                   2049                6.4\n",
       "price                   1377                4.3\n",
       "specs                    669                2.1\n",
       "tags                     162                0.5\n",
       "app_name                   1                0.0"
      ]
     },
     "execution_count": 49,
     "metadata": {},
     "output_type": "execute_result"
    }
   ],
   "source": [
    "missing_values_table(df_games)"
   ]
  },
  {
   "cell_type": "code",
   "execution_count": 52,
   "metadata": {},
   "outputs": [
    {
     "name": "stdout",
     "output_type": "stream",
     "text": [
      "(32132, 13)\n",
      "32132\n"
     ]
    },
    {
     "data": {
      "text/plain": [
       "<Axes: >"
      ]
     },
     "execution_count": 52,
     "metadata": {},
     "output_type": "execute_result"
    },
    {
     "data": {
      "image/png": "[encoded data removed]",
      "text/plain": [
       "<Figure size 640x480 with 1 Axes>"
      ]
     },
     "metadata": {},
     "output_type": "display_data"
    }
   ],
   "source": [
    "# Supongamos que tienes un DataFrame llamado df y quieres contar los valores únicos en la columna 'user_id':\n",
    "unique_count = df_games['item_id'].nunique()\n",
    "print(df_games.shape)\n",
    "print(unique_count)\n",
    "df_games['item_id'].hist()"
   ]
  },
  {
   "cell_type": "code",
   "execution_count": 51,
   "metadata": {},
   "outputs": [],
   "source": [
    "df_games = df_games.drop_duplicates(subset=['item_id'])#df_games['item_id'].drop_duplicates(inplace=True)"
   ]
  },
  {
   "cell_type": "markdown",
   "metadata": {},
   "source": [
    "# Combinar datos"
   ]
  },
  {
   "cell_type": "code",
   "execution_count": 54,
   "metadata": {},
   "outputs": [
    {
     "data": {
      "text/plain": [
       "(3195, 21)"
      ]
     },
     "execution_count": 54,
     "metadata": {},
     "output_type": "execute_result"
    }
   ],
   "source": [
    "# Realiza un join con intersección basado en la columna \"clave_comun\"\n",
    "df_interseccion = pd.merge(df_games, df_reviews, on='item_id')\n",
    "df_interseccion.shape"
   ]
  },
  {
   "cell_type": "code",
   "execution_count": 55,
   "metadata": {},
   "outputs": [],
   "source": [
    "# Realiza un join con intersección basado en la columna \"clave_comun\"\n",
    "df_total = pd.merge(df_items,df_interseccion,  on='item_id', how='inner')"
   ]
  },
  {
   "cell_type": "code",
   "execution_count": 56,
   "metadata": {},
   "outputs": [
    {
     "data": {
      "image/png": "[encoded data removed]",
      "text/plain": [
       "<Figure size 1500x1500 with 1 Axes>"
      ]
     },
     "metadata": {},
     "output_type": "display_data"
    }
   ],
   "source": [
    "# Reemplazar todos los valores NaN por nan\n",
    "df_total = df_total.fillna(np.nan)\n",
    "#Observamos graficamente los valores nulos\n",
    "fig = plt.figure(figsize=(15,15))\n",
    "sns.heatmap(df_total.isnull(), cbar=False)\n",
    "plt.show()"
   ]
  },
  {
   "cell_type": "code",
   "execution_count": 57,
   "metadata": {},
   "outputs": [
    {
     "name": "stdout",
     "output_type": "stream",
     "text": [
      "(2928, 28)\n",
      "2928\n"
     ]
    },
    {
     "data": {
      "text/plain": [
       "<Axes: >"
      ]
     },
     "execution_count": 57,
     "metadata": {},
     "output_type": "execute_result"
    },
    {
     "data": {
      "image/png": "[encoded data removed]",
      "text/plain": [
       "<Figure size 640x480 with 1 Axes>"
      ]
     },
     "metadata": {},
     "output_type": "display_data"
    }
   ],
   "source": [
    "# Supongamos que tienes un DataFrame llamado df y quieres contar los valores únicos en la columna 'user_id':\n",
    "unique_count = df_total['item_id'].nunique()\n",
    "print(df_total.shape)\n",
    "print(unique_count)\n",
    "df_total['item_id'].hist()"
   ]
  },
  {
   "cell_type": "markdown",
   "metadata": {},
   "source": [
    "ELIMINO algunas columnas que no se usara y tambien RENOMBRARE"
   ]
  },
  {
   "cell_type": "code",
   "execution_count": 90,
   "metadata": {},
   "outputs": [],
   "source": [
    "df_total = df_total.rename(columns={'user_id_x': 'user_id'})"
   ]
  },
  {
   "cell_type": "code",
   "execution_count": 60,
   "metadata": {},
   "outputs": [
    {
     "ename": "KeyError",
     "evalue": "\"['user_url_x', 'playtime_2weeks', 'url', 'user_id_y', 'last_edited', 'helpful'] not found in axis\"",
     "output_type": "error",
     "traceback": [
      "\u001b[1;31m---------------------------------------------------------------------------\u001b[0m",
      "\u001b[1;31mKeyError\u001b[0m                                  Traceback (most recent call last)",
      "\u001b[1;32mc:\\Users\\rodrigo\\Desktop\\DATA_16\\games_eda_etl.ipynb Celda 37\u001b[0m line \u001b[0;36m2\n\u001b[0;32m      <a href='vscode-notebook-cell:/c%3A/Users/rodrigo/Desktop/DATA_16/games_eda_etl.ipynb#Y221sZmlsZQ%3D%3D?line=0'>1</a>\u001b[0m columnas\u001b[39m=\u001b[39m[\u001b[39m'\u001b[39m\u001b[39muser_url_x\u001b[39m\u001b[39m'\u001b[39m,\u001b[39m'\u001b[39m\u001b[39mplaytime_2weeks\u001b[39m\u001b[39m'\u001b[39m,\u001b[39m'\u001b[39m\u001b[39murl\u001b[39m\u001b[39m'\u001b[39m,\u001b[39m'\u001b[39m\u001b[39muser_id_y\u001b[39m\u001b[39m'\u001b[39m,\u001b[39m'\u001b[39m\u001b[39mlast_edited\u001b[39m\u001b[39m'\u001b[39m,\u001b[39m'\u001b[39m\u001b[39mhelpful\u001b[39m\u001b[39m'\u001b[39m]\n\u001b[1;32m----> <a href='vscode-notebook-cell:/c%3A/Users/rodrigo/Desktop/DATA_16/games_eda_etl.ipynb#Y221sZmlsZQ%3D%3D?line=1'>2</a>\u001b[0m df_total \u001b[39m=\u001b[39m df_total\u001b[39m.\u001b[39;49mdrop(columnas, axis\u001b[39m=\u001b[39;49m\u001b[39m1\u001b[39;49m)\n\u001b[0;32m      <a href='vscode-notebook-cell:/c%3A/Users/rodrigo/Desktop/DATA_16/games_eda_etl.ipynb#Y221sZmlsZQ%3D%3D?line=2'>3</a>\u001b[0m df_total\u001b[39m.\u001b[39mdropna(how\u001b[39m=\u001b[39m\u001b[39m'\u001b[39m\u001b[39mall\u001b[39m\u001b[39m'\u001b[39m,inplace\u001b[39m=\u001b[39m\u001b[39mTrue\u001b[39;00m)\n\u001b[0;32m      <a href='vscode-notebook-cell:/c%3A/Users/rodrigo/Desktop/DATA_16/games_eda_etl.ipynb#Y221sZmlsZQ%3D%3D?line=3'>4</a>\u001b[0m df_total\u001b[39m.\u001b[39mreset_index(drop\u001b[39m=\u001b[39m\u001b[39mTrue\u001b[39;00m)\n",
      "File \u001b[1;32mc:\\Users\\rodrigo\\.conda\\envs\\steam_v1\\Lib\\site-packages\\pandas\\core\\frame.py:5258\u001b[0m, in \u001b[0;36mDataFrame.drop\u001b[1;34m(self, labels, axis, index, columns, level, inplace, errors)\u001b[0m\n\u001b[0;32m   5110\u001b[0m \u001b[39mdef\u001b[39;00m \u001b[39mdrop\u001b[39m(\n\u001b[0;32m   5111\u001b[0m     \u001b[39mself\u001b[39m,\n\u001b[0;32m   5112\u001b[0m     labels: IndexLabel \u001b[39m=\u001b[39m \u001b[39mNone\u001b[39;00m,\n\u001b[1;32m   (...)\u001b[0m\n\u001b[0;32m   5119\u001b[0m     errors: IgnoreRaise \u001b[39m=\u001b[39m \u001b[39m\"\u001b[39m\u001b[39mraise\u001b[39m\u001b[39m\"\u001b[39m,\n\u001b[0;32m   5120\u001b[0m ) \u001b[39m-\u001b[39m\u001b[39m>\u001b[39m DataFrame \u001b[39m|\u001b[39m \u001b[39mNone\u001b[39;00m:\n\u001b[0;32m   5121\u001b[0m \u001b[39m    \u001b[39m\u001b[39m\"\"\"\u001b[39;00m\n\u001b[0;32m   5122\u001b[0m \u001b[39m    Drop specified labels from rows or columns.\u001b[39;00m\n\u001b[0;32m   5123\u001b[0m \n\u001b[1;32m   (...)\u001b[0m\n\u001b[0;32m   5256\u001b[0m \u001b[39m            weight  1.0     0.8\u001b[39;00m\n\u001b[0;32m   5257\u001b[0m \u001b[39m    \"\"\"\u001b[39;00m\n\u001b[1;32m-> 5258\u001b[0m     \u001b[39mreturn\u001b[39;00m \u001b[39msuper\u001b[39;49m()\u001b[39m.\u001b[39;49mdrop(\n\u001b[0;32m   5259\u001b[0m         labels\u001b[39m=\u001b[39;49mlabels,\n\u001b[0;32m   5260\u001b[0m         axis\u001b[39m=\u001b[39;49maxis,\n\u001b[0;32m   5261\u001b[0m         index\u001b[39m=\u001b[39;49mindex,\n\u001b[0;32m   5262\u001b[0m         columns\u001b[39m=\u001b[39;49mcolumns,\n\u001b[0;32m   5263\u001b[0m         level\u001b[39m=\u001b[39;49mlevel,\n\u001b[0;32m   5264\u001b[0m         inplace\u001b[39m=\u001b[39;49minplace,\n\u001b[0;32m   5265\u001b[0m         errors\u001b[39m=\u001b[39;49merrors,\n\u001b[0;32m   5266\u001b[0m     )\n",
      "File \u001b[1;32mc:\\Users\\rodrigo\\.conda\\envs\\steam_v1\\Lib\\site-packages\\pandas\\core\\generic.py:4549\u001b[0m, in \u001b[0;36mNDFrame.drop\u001b[1;34m(self, labels, axis, index, columns, level, inplace, errors)\u001b[0m\n\u001b[0;32m   4547\u001b[0m \u001b[39mfor\u001b[39;00m axis, labels \u001b[39min\u001b[39;00m axes\u001b[39m.\u001b[39mitems():\n\u001b[0;32m   4548\u001b[0m     \u001b[39mif\u001b[39;00m labels \u001b[39mis\u001b[39;00m \u001b[39mnot\u001b[39;00m \u001b[39mNone\u001b[39;00m:\n\u001b[1;32m-> 4549\u001b[0m         obj \u001b[39m=\u001b[39m obj\u001b[39m.\u001b[39;49m_drop_axis(labels, axis, level\u001b[39m=\u001b[39;49mlevel, errors\u001b[39m=\u001b[39;49merrors)\n\u001b[0;32m   4551\u001b[0m \u001b[39mif\u001b[39;00m inplace:\n\u001b[0;32m   4552\u001b[0m     \u001b[39mself\u001b[39m\u001b[39m.\u001b[39m_update_inplace(obj)\n",
      "File \u001b[1;32mc:\\Users\\rodrigo\\.conda\\envs\\steam_v1\\Lib\\site-packages\\pandas\\core\\generic.py:4591\u001b[0m, in \u001b[0;36mNDFrame._drop_axis\u001b[1;34m(self, labels, axis, level, errors, only_slice)\u001b[0m\n\u001b[0;32m   4589\u001b[0m         new_axis \u001b[39m=\u001b[39m axis\u001b[39m.\u001b[39mdrop(labels, level\u001b[39m=\u001b[39mlevel, errors\u001b[39m=\u001b[39merrors)\n\u001b[0;32m   4590\u001b[0m     \u001b[39melse\u001b[39;00m:\n\u001b[1;32m-> 4591\u001b[0m         new_axis \u001b[39m=\u001b[39m axis\u001b[39m.\u001b[39;49mdrop(labels, errors\u001b[39m=\u001b[39;49merrors)\n\u001b[0;32m   4592\u001b[0m     indexer \u001b[39m=\u001b[39m axis\u001b[39m.\u001b[39mget_indexer(new_axis)\n\u001b[0;32m   4594\u001b[0m \u001b[39m# Case for non-unique axis\u001b[39;00m\n\u001b[0;32m   4595\u001b[0m \u001b[39melse\u001b[39;00m:\n",
      "File \u001b[1;32mc:\\Users\\rodrigo\\.conda\\envs\\steam_v1\\Lib\\site-packages\\pandas\\core\\indexes\\base.py:6699\u001b[0m, in \u001b[0;36mIndex.drop\u001b[1;34m(self, labels, errors)\u001b[0m\n\u001b[0;32m   6697\u001b[0m \u001b[39mif\u001b[39;00m mask\u001b[39m.\u001b[39many():\n\u001b[0;32m   6698\u001b[0m     \u001b[39mif\u001b[39;00m errors \u001b[39m!=\u001b[39m \u001b[39m\"\u001b[39m\u001b[39mignore\u001b[39m\u001b[39m\"\u001b[39m:\n\u001b[1;32m-> 6699\u001b[0m         \u001b[39mraise\u001b[39;00m \u001b[39mKeyError\u001b[39;00m(\u001b[39mf\u001b[39m\u001b[39m\"\u001b[39m\u001b[39m{\u001b[39;00m\u001b[39mlist\u001b[39m(labels[mask])\u001b[39m}\u001b[39;00m\u001b[39m not found in axis\u001b[39m\u001b[39m\"\u001b[39m)\n\u001b[0;32m   6700\u001b[0m     indexer \u001b[39m=\u001b[39m indexer[\u001b[39m~\u001b[39mmask]\n\u001b[0;32m   6701\u001b[0m \u001b[39mreturn\u001b[39;00m \u001b[39mself\u001b[39m\u001b[39m.\u001b[39mdelete(indexer)\n",
      "\u001b[1;31mKeyError\u001b[0m: \"['user_url_x', 'playtime_2weeks', 'url', 'user_id_y', 'last_edited', 'helpful'] not found in axis\""
     ]
    }
   ],
   "source": [
    "columnas=['user_url_x','playtime_2weeks','url','user_id_y','last_edited','helpful']\n",
    "df_total = df_total.drop(columnas, axis=1)\n",
    "df_total.dropna(how='all',inplace=True)\n",
    "df_total.reset_index(drop=True)"
   ]
  },
  {
   "cell_type": "markdown",
   "metadata": {},
   "source": [
    "# Guardas datos"
   ]
  },
  {
   "cell_type": "code",
   "execution_count": 61,
   "metadata": {},
   "outputs": [],
   "source": [
    "df_total.to_csv('./df_total.csv', index=False)"
   ]
  },
  {
   "cell_type": "markdown",
   "metadata": {},
   "source": [
    "## Funcion 1\n",
    "def developer( desarrollador : str ): Cantidad de items y porcentaje de contenido Free por año según empresa desarrolladora. Ejemplo de retorno:"
   ]
  },
  {
   "cell_type": "markdown",
   "metadata": {},
   "source": [
    "### Transformacion"
   ]
  },
  {
   "cell_type": "markdown",
   "metadata": {},
   "source": [
    "PRICE float"
   ]
  },
  {
   "cell_type": "code",
   "execution_count": 62,
   "metadata": {},
   "outputs": [
    {
     "name": "stdout",
     "output_type": "stream",
     "text": [
      "cantidad de nulos:  48\n",
      "tipo de dato:  object\n",
      "cantidad datos (2928, 22)\n"
     ]
    },
    {
     "data": {
      "text/plain": [
       "'9.99'"
      ]
     },
     "execution_count": 62,
     "metadata": {},
     "output_type": "execute_result"
    }
   ],
   "source": [
    "print('cantidad de nulos: ',df_total['price'].isnull().sum())\n",
    "print('tipo de dato: ',df_total['price'].dtype)\n",
    "print('cantidad datos',df_total.shape)\n",
    "df_total['price'].iloc[20]"
   ]
  },
  {
   "cell_type": "markdown",
   "metadata": {},
   "source": [
    "normalizamos"
   ]
  },
  {
   "cell_type": "code",
   "execution_count": 65,
   "metadata": {},
   "outputs": [
    {
     "name": "stdout",
     "output_type": "stream",
     "text": [
      "['9.99' '4.99' '19.99' '6.99' nan '7.99' '2.99' '14.99' '0.00' '54.99'\n",
      " '29.99' '39.99' '24.99' '1.99' '11.99' '0.49' '0.98' '0.99' '59.99'\n",
      " '3.99' '74.76' '32.99' '12.99' '49.99' '5.99' '13.98' '8.99' '13.99'\n",
      " '34.99' '12.89' '20.0' '14.95' '15.99' '18.99' '17.99' '160.91' '59.95'\n",
      " '44.99' '3.49' '1.87' '23.99' '21.99' '15.0' '189.96' '139.92' '23.96'\n",
      " '16.99' '7.49' '19.98' '69.99' '16.06' '13.37' '79.99' '10.99' '771.71'\n",
      " '99.99' '3.0']\n"
     ]
    }
   ],
   "source": [
    "#chequeamos los valores unicos para hacer replace() y poder cambiar el tipo de datos a uno manipulable.\n",
    "print(pd.unique(df_total['price']))"
   ]
  },
  {
   "cell_type": "code",
   "execution_count": 64,
   "metadata": {},
   "outputs": [],
   "source": [
    "df_total.replace(['Free','Free To Play', 'Free to Play', 'Third-party',  'Install Now',\n",
    "                  'Play WARMACHINE: Tactics Demo', 'Free Movie','Free to Use','Play for Free!','Free Mod','Free HITMAN™ Holiday Pack','Play the Demo'], '0.00', inplace=True)"
   ]
  },
  {
   "cell_type": "code",
   "execution_count": 66,
   "metadata": {},
   "outputs": [
    {
     "data": {
      "text/html": [
       "<div>\n",
       "<style scoped>\n",
       "    .dataframe tbody tr th:only-of-type {\n",
       "        vertical-align: middle;\n",
       "    }\n",
       "\n",
       "    .dataframe tbody tr th {\n",
       "        vertical-align: top;\n",
       "    }\n",
       "\n",
       "    .dataframe thead th {\n",
       "        text-align: right;\n",
       "    }\n",
       "</style>\n",
       "<table border=\"1\" class=\"dataframe\">\n",
       "  <thead>\n",
       "    <tr style=\"text-align: right;\">\n",
       "      <th></th>\n",
       "      <th>user_id_x</th>\n",
       "      <th>items_count</th>\n",
       "      <th>steam_id</th>\n",
       "      <th>item_id</th>\n",
       "      <th>item_name</th>\n",
       "      <th>playtime_forever</th>\n",
       "      <th>publisher</th>\n",
       "      <th>genres</th>\n",
       "      <th>app_name</th>\n",
       "      <th>title</th>\n",
       "      <th>...</th>\n",
       "      <th>reviews_url</th>\n",
       "      <th>specs</th>\n",
       "      <th>price</th>\n",
       "      <th>early_access</th>\n",
       "      <th>developer</th>\n",
       "      <th>user_url_y</th>\n",
       "      <th>funny</th>\n",
       "      <th>posted</th>\n",
       "      <th>recommend</th>\n",
       "      <th>sentiment_analysis</th>\n",
       "    </tr>\n",
       "  </thead>\n",
       "  <tbody>\n",
       "  </tbody>\n",
       "</table>\n",
       "<p>0 rows × 22 columns</p>\n",
       "</div>"
      ],
      "text/plain": [
       "Empty DataFrame\n",
       "Columns: [user_id_x, items_count, steam_id, item_id, item_name, playtime_forever, publisher, genres, app_name, title, release_date, tags, reviews_url, specs, price, early_access, developer, user_url_y, funny, posted, recommend, sentiment_analysis]\n",
       "Index: []\n",
       "\n",
       "[0 rows x 22 columns]"
      ]
     },
     "execution_count": 66,
     "metadata": {},
     "output_type": "execute_result"
    }
   ],
   "source": [
    "#consola, no video juego\n",
    "df_total[df_total['price'] == 'Starting at $499.00']"
   ]
  },
  {
   "cell_type": "code",
   "execution_count": 69,
   "metadata": {},
   "outputs": [
    {
     "data": {
      "text/html": [
       "<div>\n",
       "<style scoped>\n",
       "    .dataframe tbody tr th:only-of-type {\n",
       "        vertical-align: middle;\n",
       "    }\n",
       "\n",
       "    .dataframe tbody tr th {\n",
       "        vertical-align: top;\n",
       "    }\n",
       "\n",
       "    .dataframe thead th {\n",
       "        text-align: right;\n",
       "    }\n",
       "</style>\n",
       "<table border=\"1\" class=\"dataframe\">\n",
       "  <thead>\n",
       "    <tr style=\"text-align: right;\">\n",
       "      <th></th>\n",
       "      <th>user_id_x</th>\n",
       "      <th>items_count</th>\n",
       "      <th>steam_id</th>\n",
       "      <th>item_id</th>\n",
       "      <th>item_name</th>\n",
       "      <th>playtime_forever</th>\n",
       "      <th>publisher</th>\n",
       "      <th>genres</th>\n",
       "      <th>app_name</th>\n",
       "      <th>title</th>\n",
       "      <th>...</th>\n",
       "      <th>reviews_url</th>\n",
       "      <th>specs</th>\n",
       "      <th>price</th>\n",
       "      <th>early_access</th>\n",
       "      <th>developer</th>\n",
       "      <th>user_url_y</th>\n",
       "      <th>funny</th>\n",
       "      <th>posted</th>\n",
       "      <th>recommend</th>\n",
       "      <th>sentiment_analysis</th>\n",
       "    </tr>\n",
       "  </thead>\n",
       "  <tbody>\n",
       "  </tbody>\n",
       "</table>\n",
       "<p>0 rows × 22 columns</p>\n",
       "</div>"
      ],
      "text/plain": [
       "Empty DataFrame\n",
       "Columns: [user_id_x, items_count, steam_id, item_id, item_name, playtime_forever, publisher, genres, app_name, title, release_date, tags, reviews_url, specs, price, early_access, developer, user_url_y, funny, posted, recommend, sentiment_analysis]\n",
       "Index: []\n",
       "\n",
       "[0 rows x 22 columns]"
      ]
     },
     "execution_count": 69,
     "metadata": {},
     "output_type": "execute_result"
    }
   ],
   "source": [
    "#tampoco es un juego, es otra consola\n",
    "df_total[df_total['price'] == np.nan]"
   ]
  },
  {
   "cell_type": "markdown",
   "metadata": {},
   "source": [
    "Elimino dado index"
   ]
  },
  {
   "cell_type": "code",
   "execution_count": 32,
   "metadata": {},
   "outputs": [
    {
     "ename": "KeyError",
     "evalue": "'[113310, 113311] not found in axis'",
     "output_type": "error",
     "traceback": [
      "\u001b[1;31m---------------------------------------------------------------------------\u001b[0m",
      "\u001b[1;31mKeyError\u001b[0m                                  Traceback (most recent call last)",
      "\u001b[1;32mc:\\Users\\rodrigo\\Desktop\\DATA_16\\games_eda_etl.ipynb Celda 21\u001b[0m line \u001b[0;36m1\n\u001b[1;32m----> <a href='vscode-notebook-cell:/c%3A/Users/rodrigo/Desktop/DATA_16/games_eda_etl.ipynb#X26sZmlsZQ%3D%3D?line=0'>1</a>\u001b[0m steam_games\u001b[39m.\u001b[39;49mdrop([\u001b[39m113310\u001b[39;49m, \u001b[39m113311\u001b[39;49m], inplace\u001b[39m=\u001b[39;49m\u001b[39mTrue\u001b[39;49;00m)\n",
      "File \u001b[1;32mc:\\Users\\rodrigo\\.conda\\envs\\steam_v1\\Lib\\site-packages\\pandas\\core\\frame.py:5258\u001b[0m, in \u001b[0;36mDataFrame.drop\u001b[1;34m(self, labels, axis, index, columns, level, inplace, errors)\u001b[0m\n\u001b[0;32m   5110\u001b[0m \u001b[39mdef\u001b[39;00m \u001b[39mdrop\u001b[39m(\n\u001b[0;32m   5111\u001b[0m     \u001b[39mself\u001b[39m,\n\u001b[0;32m   5112\u001b[0m     labels: IndexLabel \u001b[39m=\u001b[39m \u001b[39mNone\u001b[39;00m,\n\u001b[1;32m   (...)\u001b[0m\n\u001b[0;32m   5119\u001b[0m     errors: IgnoreRaise \u001b[39m=\u001b[39m \u001b[39m\"\u001b[39m\u001b[39mraise\u001b[39m\u001b[39m\"\u001b[39m,\n\u001b[0;32m   5120\u001b[0m ) \u001b[39m-\u001b[39m\u001b[39m>\u001b[39m DataFrame \u001b[39m|\u001b[39m \u001b[39mNone\u001b[39;00m:\n\u001b[0;32m   5121\u001b[0m \u001b[39m    \u001b[39m\u001b[39m\"\"\"\u001b[39;00m\n\u001b[0;32m   5122\u001b[0m \u001b[39m    Drop specified labels from rows or columns.\u001b[39;00m\n\u001b[0;32m   5123\u001b[0m \n\u001b[1;32m   (...)\u001b[0m\n\u001b[0;32m   5256\u001b[0m \u001b[39m            weight  1.0     0.8\u001b[39;00m\n\u001b[0;32m   5257\u001b[0m \u001b[39m    \"\"\"\u001b[39;00m\n\u001b[1;32m-> 5258\u001b[0m     \u001b[39mreturn\u001b[39;00m \u001b[39msuper\u001b[39;49m()\u001b[39m.\u001b[39;49mdrop(\n\u001b[0;32m   5259\u001b[0m         labels\u001b[39m=\u001b[39;49mlabels,\n\u001b[0;32m   5260\u001b[0m         axis\u001b[39m=\u001b[39;49maxis,\n\u001b[0;32m   5261\u001b[0m         index\u001b[39m=\u001b[39;49mindex,\n\u001b[0;32m   5262\u001b[0m         columns\u001b[39m=\u001b[39;49mcolumns,\n\u001b[0;32m   5263\u001b[0m         level\u001b[39m=\u001b[39;49mlevel,\n\u001b[0;32m   5264\u001b[0m         inplace\u001b[39m=\u001b[39;49minplace,\n\u001b[0;32m   5265\u001b[0m         errors\u001b[39m=\u001b[39;49merrors,\n\u001b[0;32m   5266\u001b[0m     )\n",
      "File \u001b[1;32mc:\\Users\\rodrigo\\.conda\\envs\\steam_v1\\Lib\\site-packages\\pandas\\core\\generic.py:4549\u001b[0m, in \u001b[0;36mNDFrame.drop\u001b[1;34m(self, labels, axis, index, columns, level, inplace, errors)\u001b[0m\n\u001b[0;32m   4547\u001b[0m \u001b[39mfor\u001b[39;00m axis, labels \u001b[39min\u001b[39;00m axes\u001b[39m.\u001b[39mitems():\n\u001b[0;32m   4548\u001b[0m     \u001b[39mif\u001b[39;00m labels \u001b[39mis\u001b[39;00m \u001b[39mnot\u001b[39;00m \u001b[39mNone\u001b[39;00m:\n\u001b[1;32m-> 4549\u001b[0m         obj \u001b[39m=\u001b[39m obj\u001b[39m.\u001b[39;49m_drop_axis(labels, axis, level\u001b[39m=\u001b[39;49mlevel, errors\u001b[39m=\u001b[39;49merrors)\n\u001b[0;32m   4551\u001b[0m \u001b[39mif\u001b[39;00m inplace:\n\u001b[0;32m   4552\u001b[0m     \u001b[39mself\u001b[39m\u001b[39m.\u001b[39m_update_inplace(obj)\n",
      "File \u001b[1;32mc:\\Users\\rodrigo\\.conda\\envs\\steam_v1\\Lib\\site-packages\\pandas\\core\\generic.py:4591\u001b[0m, in \u001b[0;36mNDFrame._drop_axis\u001b[1;34m(self, labels, axis, level, errors, only_slice)\u001b[0m\n\u001b[0;32m   4589\u001b[0m         new_axis \u001b[39m=\u001b[39m axis\u001b[39m.\u001b[39mdrop(labels, level\u001b[39m=\u001b[39mlevel, errors\u001b[39m=\u001b[39merrors)\n\u001b[0;32m   4590\u001b[0m     \u001b[39melse\u001b[39;00m:\n\u001b[1;32m-> 4591\u001b[0m         new_axis \u001b[39m=\u001b[39m axis\u001b[39m.\u001b[39;49mdrop(labels, errors\u001b[39m=\u001b[39;49merrors)\n\u001b[0;32m   4592\u001b[0m     indexer \u001b[39m=\u001b[39m axis\u001b[39m.\u001b[39mget_indexer(new_axis)\n\u001b[0;32m   4594\u001b[0m \u001b[39m# Case for non-unique axis\u001b[39;00m\n\u001b[0;32m   4595\u001b[0m \u001b[39melse\u001b[39;00m:\n",
      "File \u001b[1;32mc:\\Users\\rodrigo\\.conda\\envs\\steam_v1\\Lib\\site-packages\\pandas\\core\\indexes\\base.py:6699\u001b[0m, in \u001b[0;36mIndex.drop\u001b[1;34m(self, labels, errors)\u001b[0m\n\u001b[0;32m   6697\u001b[0m \u001b[39mif\u001b[39;00m mask\u001b[39m.\u001b[39many():\n\u001b[0;32m   6698\u001b[0m     \u001b[39mif\u001b[39;00m errors \u001b[39m!=\u001b[39m \u001b[39m\"\u001b[39m\u001b[39mignore\u001b[39m\u001b[39m\"\u001b[39m:\n\u001b[1;32m-> 6699\u001b[0m         \u001b[39mraise\u001b[39;00m \u001b[39mKeyError\u001b[39;00m(\u001b[39mf\u001b[39m\u001b[39m\"\u001b[39m\u001b[39m{\u001b[39;00m\u001b[39mlist\u001b[39m(labels[mask])\u001b[39m}\u001b[39;00m\u001b[39m not found in axis\u001b[39m\u001b[39m\"\u001b[39m)\n\u001b[0;32m   6700\u001b[0m     indexer \u001b[39m=\u001b[39m indexer[\u001b[39m~\u001b[39mmask]\n\u001b[0;32m   6701\u001b[0m \u001b[39mreturn\u001b[39;00m \u001b[39mself\u001b[39m\u001b[39m.\u001b[39mdelete(indexer)\n",
      "\u001b[1;31mKeyError\u001b[0m: '[113310, 113311] not found in axis'"
     ]
    }
   ],
   "source": [
    "df_total.drop([113310, 113311], inplace=True)"
   ]
  },
  {
   "cell_type": "markdown",
   "metadata": {},
   "source": [
    "Imputamos valores<br>\n",
    "EDA"
   ]
  },
  {
   "cell_type": "code",
   "execution_count": 78,
   "metadata": {},
   "outputs": [
    {
     "name": "stdout",
     "output_type": "stream",
     "text": [
      "cantidad de nulos:  0\n",
      "tipo de dato:  float64\n",
      "cantidad datos (2928, 22)\n"
     ]
    },
    {
     "data": {
      "text/plain": [
       "9.99"
      ]
     },
     "execution_count": 78,
     "metadata": {},
     "output_type": "execute_result"
    }
   ],
   "source": [
    "print('cantidad de nulos: ',df_total['price'].isnull().sum())\n",
    "print('tipo de dato: ',df_total['price'].dtype)\n",
    "print('cantidad datos',df_total.shape)\n",
    "df_total['price'].iloc[0]"
   ]
  },
  {
   "cell_type": "code",
   "execution_count": 71,
   "metadata": {},
   "outputs": [],
   "source": [
    "df_total['price'] = pd.to_numeric(df_total['price'], errors='coerce')"
   ]
  },
  {
   "cell_type": "markdown",
   "metadata": {},
   "source": [
    "a) histograma"
   ]
  },
  {
   "cell_type": "code",
   "execution_count": 72,
   "metadata": {},
   "outputs": [
    {
     "data": {
      "text/plain": [
       "<Axes: >"
      ]
     },
     "execution_count": 72,
     "metadata": {},
     "output_type": "execute_result"
    },
    {
     "data": {
      "image/png": "[encoded data removed]",
      "text/plain": [
       "<Figure size 2000x1500 with 1 Axes>"
      ]
     },
     "metadata": {},
     "output_type": "display_data"
    }
   ],
   "source": [
    "#steam_games['price'].hist()\n",
    "df_total['price'].hist(bins = 100, figsize= (20,15))"
   ]
  },
  {
   "cell_type": "markdown",
   "metadata": {},
   "source": [
    "b) boxplot"
   ]
  },
  {
   "cell_type": "code",
   "execution_count": 74,
   "metadata": {},
   "outputs": [
    {
     "data": {
      "text/plain": [
       "Text(0.5, 1.0, 'Precio')"
      ]
     },
     "execution_count": 74,
     "metadata": {},
     "output_type": "execute_result"
    },
    {
     "data": {
      "image/png": "[encoded data removed]",
      "text/plain": [
       "<Figure size 800x600 with 1 Axes>"
      ]
     },
     "metadata": {},
     "output_type": "display_data"
    }
   ],
   "source": [
    "# Crea un boxplot de una columna específica en el DataFrame\n",
    "sns.set(style=\"whitegrid\")  # Establece el estilo del gráfico\n",
    "plt.figure(figsize=(8, 6))  # Opcional: establece el tamaño del gráfico\n",
    "\n",
    "sns.boxplot(data=df_total, x='price', color='lightblue')\n",
    "plt.title(\"Precio\")\n"
   ]
  },
  {
   "cell_type": "markdown",
   "metadata": {},
   "source": [
    "c) plot scatter"
   ]
  },
  {
   "cell_type": "code",
   "execution_count": 75,
   "metadata": {},
   "outputs": [
    {
     "data": {
      "text/plain": [
       "[Text(0.5, 0, 'price'), Text(0, 0.5, 'cantidad')]"
      ]
     },
     "execution_count": 75,
     "metadata": {},
     "output_type": "execute_result"
    },
    {
     "data": {
      "image/png": "[encoded data removed]",
      "text/plain": [
       "<Figure size 640x480 with 1 Axes>"
      ]
     },
     "metadata": {},
     "output_type": "display_data"
    }
   ],
   "source": [
    "fig = plt.figure()\n",
    "ax = plt.axes()\n",
    "# Crea una lista de valores para el eje X\n",
    "eje_x = list(range(1, len(df_total.price) + 1))\n",
    "\n",
    "ax.scatter(df_total.price,eje_x)\n",
    "ax.set(xlabel='price', ylabel='cantidad')"
   ]
  },
  {
   "cell_type": "markdown",
   "metadata": {},
   "source": [
    "c) convertir a entero e imputar datos"
   ]
  },
  {
   "cell_type": "code",
   "execution_count": 76,
   "metadata": {},
   "outputs": [
    {
     "data": {
      "text/plain": [
       "9.99"
      ]
     },
     "execution_count": 76,
     "metadata": {},
     "output_type": "execute_result"
    }
   ],
   "source": [
    "media=df_total.sort_values(by='price')['price'].median()\n",
    "media"
   ]
  },
  {
   "cell_type": "code",
   "execution_count": 77,
   "metadata": {},
   "outputs": [],
   "source": [
    "df_total['price'].fillna(media,inplace=True) # En el EDA se ve que tiene como una distribucion normal por ende se pone la media\n",
    "df_total['price'] = df_total['price'].astype(float) # Convierto a tipo entero"
   ]
  },
  {
   "cell_type": "markdown",
   "metadata": {},
   "source": [
    "PUBLISHER str"
   ]
  },
  {
   "cell_type": "code",
   "execution_count": 82,
   "metadata": {},
   "outputs": [
    {
     "name": "stdout",
     "output_type": "stream",
     "text": [
      "cantidad de nulos:  0\n",
      "tipo de dato:  object\n",
      "cantidad datos (2928, 22)\n"
     ]
    },
    {
     "data": {
      "text/plain": [
       "'Valve'"
      ]
     },
     "execution_count": 82,
     "metadata": {},
     "output_type": "execute_result"
    }
   ],
   "source": [
    "print('cantidad de nulos: ',df_total['publisher'].isnull().sum())\n",
    "print('tipo de dato: ',df_total['publisher'].dtype)\n",
    "print('cantidad datos',df_total.shape)\n",
    "df_total['publisher'].iloc[1]"
   ]
  },
  {
   "cell_type": "code",
   "execution_count": 81,
   "metadata": {},
   "outputs": [],
   "source": [
    "#elimino columna que no voy a utilizar\n",
    "#df_total.drop(columns= '', inplace=True)\n",
    "#df_total.drop([113310, 113311], inplace=True)\n",
    "#df_total.dropna(how='all',inplace=True)\n",
    "\n",
    "# Elimina filas con valores nulos en la columna 'nombre_de_la_columna'\n",
    "#df_total = df_total.dropna(subset=['publisher'])\n",
    "df_total['publisher'].fillna('sindato',inplace=True)\n",
    "df_total['publisher'] = df_total['publisher'].astype(str) # Convierto a tipo string"
   ]
  },
  {
   "cell_type": "markdown",
   "metadata": {},
   "source": [
    "RELEASE DATE"
   ]
  },
  {
   "cell_type": "code",
   "execution_count": 85,
   "metadata": {},
   "outputs": [
    {
     "name": "stdout",
     "output_type": "stream",
     "text": [
      "cantidad de nulos:  0\n",
      "tipo de dato:  datetime64[ns]\n",
      "cantidad datos (2843, 22)\n"
     ]
    },
    {
     "data": {
      "text/plain": [
       "Timestamp('2000-11-01 00:00:00')"
      ]
     },
     "execution_count": 85,
     "metadata": {},
     "output_type": "execute_result"
    }
   ],
   "source": [
    "print('cantidad de nulos: ',df_total['release_date'].isnull().sum())\n",
    "print('tipo de dato: ',df_total['release_date'].dtype)\n",
    "print('cantidad datos',df_total.shape)\n",
    "df_total['release_date'].iloc[0]"
   ]
  },
  {
   "cell_type": "code",
   "execution_count": 84,
   "metadata": {},
   "outputs": [],
   "source": [
    "df_total['release_date'] = pd.to_datetime(df_total['release_date'], format='%Y-%m-%d', errors='coerce')\n",
    "df_total = df_total.dropna(subset = ['release_date']) #eliminare los nulos ya que despues no puedo iterar ademas como se vio son poco"
   ]
  },
  {
   "cell_type": "markdown",
   "metadata": {},
   "source": [
    "Transformaciones Auxiliares"
   ]
  },
  {
   "cell_type": "code",
   "execution_count": 86,
   "metadata": {},
   "outputs": [],
   "source": [
    "# Extrae el año de la columna \"fecha\"\n",
    "df_total['release_year'] = df_total['release_date'].dt.year"
   ]
  },
  {
   "cell_type": "markdown",
   "metadata": {},
   "source": [
    "USER_ID"
   ]
  },
  {
   "cell_type": "code",
   "execution_count": 94,
   "metadata": {},
   "outputs": [
    {
     "name": "stdout",
     "output_type": "stream",
     "text": [
      "cantidad de nulos:  0\n",
      "tipo de dato:  object\n",
      "cantidad datos (2843, 23)\n"
     ]
    },
    {
     "data": {
      "text/plain": [
       "'76561197970982479'"
      ]
     },
     "execution_count": 94,
     "metadata": {},
     "output_type": "execute_result"
    }
   ],
   "source": [
    "print('cantidad de nulos: ',df_total['user_id'].isnull().sum())\n",
    "print('tipo de dato: ',df_total['user_id'].dtype)\n",
    "print('cantidad datos',df_total.shape)\n",
    "df_total['user_id'].iloc[0]"
   ]
  },
  {
   "cell_type": "code",
   "execution_count": 93,
   "metadata": {},
   "outputs": [],
   "source": [
    "df_total['user_id'].fillna('sinuserid',inplace=True)\n",
    "df_total['user_id'] = df_total['user_id'].astype(str) # Convierto a tipo string"
   ]
  },
  {
   "cell_type": "markdown",
   "metadata": {},
   "source": [
    "RECOMEND"
   ]
  },
  {
   "cell_type": "code",
   "execution_count": 95,
   "metadata": {},
   "outputs": [
    {
     "name": "stdout",
     "output_type": "stream",
     "text": [
      "cantidad de nulos:  0\n",
      "tipo de dato:  bool\n",
      "cantidad datos (2843, 23)\n"
     ]
    },
    {
     "data": {
      "text/plain": [
       "True"
      ]
     },
     "execution_count": 95,
     "metadata": {},
     "output_type": "execute_result"
    }
   ],
   "source": [
    "print('cantidad de nulos: ',df_total['user_id'].isnull().sum())\n",
    "print('tipo de dato: ',df_total['user_id'].dtype)\n",
    "print('cantidad datos',df_total.shape)\n",
    "df_total['user_id'].iloc[0]"
   ]
  },
  {
   "cell_type": "markdown",
   "metadata": {},
   "source": [
    "GENRES"
   ]
  },
  {
   "cell_type": "code",
   "execution_count": 114,
   "metadata": {},
   "outputs": [
    {
     "name": "stdout",
     "output_type": "stream",
     "text": [
      "cantidad de nulos:  0\n",
      "tipo de dato:  object\n",
      "cantidad datos (2843, 23)\n"
     ]
    },
    {
     "data": {
      "text/plain": [
       "[]"
      ]
     },
     "execution_count": 114,
     "metadata": {},
     "output_type": "execute_result"
    }
   ],
   "source": [
    "print('cantidad de nulos: ',df_total['genres'].isnull().sum())\n",
    "print('tipo de dato: ',df_total['genres'].dtype)\n",
    "print('cantidad datos',df_total.shape)\n",
    "df_total['genres'].iloc[0]"
   ]
  },
  {
   "cell_type": "code",
   "execution_count": 113,
   "metadata": {},
   "outputs": [],
   "source": [
    "df_total['genres'] = df_total['genres'].apply(lambda x: ast.literal_eval(x) if isinstance(x, str) else []) # de str -> []\n",
    "#df_total['genres'].fillna([],inplace=True)\n",
    "#df_total['genres'] = df_total['genres'].astype(list) # Convierto a tipo string"
   ]
  },
  {
   "cell_type": "markdown",
   "metadata": {},
   "source": [
    "PLAYTIMEFOREVER"
   ]
  },
  {
   "cell_type": "code",
   "execution_count": 115,
   "metadata": {},
   "outputs": [
    {
     "name": "stdout",
     "output_type": "stream",
     "text": [
      "cantidad de nulos:  0\n",
      "tipo de dato:  float64\n",
      "cantidad datos (2843, 23)\n"
     ]
    },
    {
     "data": {
      "text/plain": [
       "6.0"
      ]
     },
     "execution_count": 115,
     "metadata": {},
     "output_type": "execute_result"
    }
   ],
   "source": [
    "print('cantidad de nulos: ',df_total['playtime_forever'].isnull().sum())\n",
    "print('tipo de dato: ',df_total['playtime_forever'].dtype)\n",
    "print('cantidad datos',df_total.shape)\n",
    "df_total['playtime_forever'].iloc[0]"
   ]
  },
  {
   "cell_type": "markdown",
   "metadata": {},
   "source": [
    "DEVELOPER"
   ]
  },
  {
   "cell_type": "code",
   "execution_count": 118,
   "metadata": {},
   "outputs": [
    {
     "name": "stdout",
     "output_type": "stream",
     "text": [
      "cantidad de nulos:  0\n",
      "tipo de dato:  object\n",
      "cantidad datos (2843, 23)\n"
     ]
    },
    {
     "data": {
      "text/plain": [
       "'Valve'"
      ]
     },
     "execution_count": 118,
     "metadata": {},
     "output_type": "execute_result"
    }
   ],
   "source": [
    "print('cantidad de nulos: ',df_total['developer'].isnull().sum())\n",
    "print('tipo de dato: ',df_total['developer'].dtype)\n",
    "print('cantidad datos',df_total.shape)\n",
    "df_total['developer'].iloc[0]"
   ]
  },
  {
   "cell_type": "code",
   "execution_count": 117,
   "metadata": {},
   "outputs": [],
   "source": [
    "df_total['developer'].fillna('sindev',inplace=True)\n",
    "df_total['developer'] = df_total['developer'].astype(str) # Convierto a tipo string"
   ]
  },
  {
   "cell_type": "code",
   "execution_count": null,
   "metadata": {},
   "outputs": [],
   "source": []
  },
  {
   "cell_type": "code",
   "execution_count": null,
   "metadata": {},
   "outputs": [],
   "source": []
  },
  {
   "cell_type": "code",
   "execution_count": 119,
   "metadata": {},
   "outputs": [
    {
     "data": {
      "image/png": "[encoded data removed]",
      "text/plain": [
       "<Figure size 1500x1500 with 1 Axes>"
      ]
     },
     "metadata": {},
     "output_type": "display_data"
    }
   ],
   "source": [
    "# Reemplazar todos los valores NaN por nan\n",
    "df_total = df_total.fillna(np.nan)\n",
    "#Observamos graficamente los valores nulos\n",
    "fig = plt.figure(figsize=(15,15))\n",
    "sns.heatmap(df_total.isnull(), cbar=False)\n",
    "plt.show()"
   ]
  },
  {
   "cell_type": "markdown",
   "metadata": {},
   "source": [
    "# Guardar"
   ]
  },
  {
   "cell_type": "code",
   "execution_count": 120,
   "metadata": {},
   "outputs": [],
   "source": [
    "df_total.to_csv('consulta1.csv', index=False)"
   ]
  },
  {
   "cell_type": "markdown",
   "metadata": {},
   "source": [
    "#### Hasta aca los datos limpios"
   ]
  },
  {
   "cell_type": "markdown",
   "metadata": {},
   "source": [
    "# 1"
   ]
  },
  {
   "cell_type": "markdown",
   "metadata": {},
   "source": [
    "vamos a ver que valores tenemos de entrada"
   ]
  },
  {
   "cell_type": "code",
   "execution_count": 121,
   "metadata": {},
   "outputs": [
    {
     "data": {
      "text/plain": [
       "publisher\n",
       "Ubisoft                66\n",
       "sindato                55\n",
       "Square Enix            42\n",
       "SEGA                   34\n",
       "Paradox Interactive    33\n",
       "                       ..\n",
       "Stout Games             1\n",
       "treeform                1\n",
       "Guru Games              1\n",
       "SnoutUp                 1\n",
       "TripleBrick             1\n",
       "Name: count, Length: 1495, dtype: int64"
      ]
     },
     "execution_count": 121,
     "metadata": {},
     "output_type": "execute_result"
    }
   ],
   "source": [
    "# Cuenta los valores duplicados en la columna \"columna1\"\n",
    "conteo_duplicados = df_total['publisher'].value_counts()\n",
    "conteo_duplicados"
   ]
  },
  {
   "cell_type": "code",
   "execution_count": 122,
   "metadata": {},
   "outputs": [
    {
     "data": {
      "text/html": [
       "<div>\n",
       "<style scoped>\n",
       "    .dataframe tbody tr th:only-of-type {\n",
       "        vertical-align: middle;\n",
       "    }\n",
       "\n",
       "    .dataframe tbody tr th {\n",
       "        vertical-align: top;\n",
       "    }\n",
       "\n",
       "    .dataframe thead th {\n",
       "        text-align: right;\n",
       "    }\n",
       "</style>\n",
       "<table border=\"1\" class=\"dataframe\">\n",
       "  <thead>\n",
       "    <tr style=\"text-align: right;\">\n",
       "      <th></th>\n",
       "      <th>release_year</th>\n",
       "      <th>Cantidad free</th>\n",
       "      <th>Totoal elementos</th>\n",
       "    </tr>\n",
       "  </thead>\n",
       "  <tbody>\n",
       "    <tr>\n",
       "      <th>0</th>\n",
       "      <td>2001</td>\n",
       "      <td>0</td>\n",
       "      <td>1</td>\n",
       "    </tr>\n",
       "    <tr>\n",
       "      <th>1</th>\n",
       "      <td>2003</td>\n",
       "      <td>0</td>\n",
       "      <td>4</td>\n",
       "    </tr>\n",
       "    <tr>\n",
       "      <th>2</th>\n",
       "      <td>2004</td>\n",
       "      <td>0</td>\n",
       "      <td>2</td>\n",
       "    </tr>\n",
       "    <tr>\n",
       "      <th>3</th>\n",
       "      <td>2005</td>\n",
       "      <td>0</td>\n",
       "      <td>1</td>\n",
       "    </tr>\n",
       "    <tr>\n",
       "      <th>4</th>\n",
       "      <td>2006</td>\n",
       "      <td>0</td>\n",
       "      <td>4</td>\n",
       "    </tr>\n",
       "    <tr>\n",
       "      <th>5</th>\n",
       "      <td>2007</td>\n",
       "      <td>0</td>\n",
       "      <td>2</td>\n",
       "    </tr>\n",
       "    <tr>\n",
       "      <th>6</th>\n",
       "      <td>2008</td>\n",
       "      <td>0</td>\n",
       "      <td>6</td>\n",
       "    </tr>\n",
       "    <tr>\n",
       "      <th>7</th>\n",
       "      <td>2009</td>\n",
       "      <td>0</td>\n",
       "      <td>1</td>\n",
       "    </tr>\n",
       "    <tr>\n",
       "      <th>8</th>\n",
       "      <td>2010</td>\n",
       "      <td>1</td>\n",
       "      <td>3</td>\n",
       "    </tr>\n",
       "    <tr>\n",
       "      <th>9</th>\n",
       "      <td>2011</td>\n",
       "      <td>0</td>\n",
       "      <td>5</td>\n",
       "    </tr>\n",
       "    <tr>\n",
       "      <th>10</th>\n",
       "      <td>2012</td>\n",
       "      <td>0</td>\n",
       "      <td>5</td>\n",
       "    </tr>\n",
       "    <tr>\n",
       "      <th>11</th>\n",
       "      <td>2013</td>\n",
       "      <td>1</td>\n",
       "      <td>11</td>\n",
       "    </tr>\n",
       "    <tr>\n",
       "      <th>12</th>\n",
       "      <td>2014</td>\n",
       "      <td>0</td>\n",
       "      <td>11</td>\n",
       "    </tr>\n",
       "    <tr>\n",
       "      <th>13</th>\n",
       "      <td>2015</td>\n",
       "      <td>1</td>\n",
       "      <td>7</td>\n",
       "    </tr>\n",
       "    <tr>\n",
       "      <th>14</th>\n",
       "      <td>2016</td>\n",
       "      <td>0</td>\n",
       "      <td>3</td>\n",
       "    </tr>\n",
       "  </tbody>\n",
       "</table>\n",
       "</div>"
      ],
      "text/plain": [
       "    release_year  Cantidad free  Totoal elementos\n",
       "0           2001              0                 1\n",
       "1           2003              0                 4\n",
       "2           2004              0                 2\n",
       "3           2005              0                 1\n",
       "4           2006              0                 4\n",
       "5           2007              0                 2\n",
       "6           2008              0                 6\n",
       "7           2009              0                 1\n",
       "8           2010              1                 3\n",
       "9           2011              0                 5\n",
       "10          2012              0                 5\n",
       "11          2013              1                11\n",
       "12          2014              0                11\n",
       "13          2015              1                 7\n",
       "14          2016              0                 3"
      ]
     },
     "execution_count": 122,
     "metadata": {},
     "output_type": "execute_result"
    }
   ],
   "source": [
    "# Agrupado\n",
    "filtrado=df_total[df_total['publisher']==\"Ubisoft\"].groupby('release_year')['price'].agg([('Cantidad free',lambda x:(x==0.00).sum()),('Totoal elementos','count')]).reset_index()\n",
    "filtrado"
   ]
  },
  {
   "cell_type": "code",
   "execution_count": 123,
   "metadata": {},
   "outputs": [
    {
     "data": {
      "text/html": [
       "<div>\n",
       "<style scoped>\n",
       "    .dataframe tbody tr th:only-of-type {\n",
       "        vertical-align: middle;\n",
       "    }\n",
       "\n",
       "    .dataframe tbody tr th {\n",
       "        vertical-align: top;\n",
       "    }\n",
       "\n",
       "    .dataframe thead th {\n",
       "        text-align: right;\n",
       "    }\n",
       "</style>\n",
       "<table border=\"1\" class=\"dataframe\">\n",
       "  <thead>\n",
       "    <tr style=\"text-align: right;\">\n",
       "      <th></th>\n",
       "      <th>release_year</th>\n",
       "      <th>Cantidad free</th>\n",
       "      <th>Totoal elementos</th>\n",
       "      <th>porcentaje_free</th>\n",
       "    </tr>\n",
       "  </thead>\n",
       "  <tbody>\n",
       "    <tr>\n",
       "      <th>0</th>\n",
       "      <td>2001</td>\n",
       "      <td>0</td>\n",
       "      <td>1</td>\n",
       "      <td>0.0</td>\n",
       "    </tr>\n",
       "    <tr>\n",
       "      <th>1</th>\n",
       "      <td>2003</td>\n",
       "      <td>0</td>\n",
       "      <td>4</td>\n",
       "      <td>0.0</td>\n",
       "    </tr>\n",
       "    <tr>\n",
       "      <th>2</th>\n",
       "      <td>2004</td>\n",
       "      <td>0</td>\n",
       "      <td>2</td>\n",
       "      <td>0.0</td>\n",
       "    </tr>\n",
       "    <tr>\n",
       "      <th>3</th>\n",
       "      <td>2005</td>\n",
       "      <td>0</td>\n",
       "      <td>1</td>\n",
       "      <td>0.0</td>\n",
       "    </tr>\n",
       "    <tr>\n",
       "      <th>4</th>\n",
       "      <td>2006</td>\n",
       "      <td>0</td>\n",
       "      <td>4</td>\n",
       "      <td>0.0</td>\n",
       "    </tr>\n",
       "    <tr>\n",
       "      <th>5</th>\n",
       "      <td>2007</td>\n",
       "      <td>0</td>\n",
       "      <td>2</td>\n",
       "      <td>0.0</td>\n",
       "    </tr>\n",
       "    <tr>\n",
       "      <th>6</th>\n",
       "      <td>2008</td>\n",
       "      <td>0</td>\n",
       "      <td>6</td>\n",
       "      <td>0.0</td>\n",
       "    </tr>\n",
       "    <tr>\n",
       "      <th>7</th>\n",
       "      <td>2009</td>\n",
       "      <td>0</td>\n",
       "      <td>1</td>\n",
       "      <td>0.0</td>\n",
       "    </tr>\n",
       "    <tr>\n",
       "      <th>8</th>\n",
       "      <td>2010</td>\n",
       "      <td>1</td>\n",
       "      <td>3</td>\n",
       "      <td>33.0</td>\n",
       "    </tr>\n",
       "    <tr>\n",
       "      <th>9</th>\n",
       "      <td>2011</td>\n",
       "      <td>0</td>\n",
       "      <td>5</td>\n",
       "      <td>0.0</td>\n",
       "    </tr>\n",
       "    <tr>\n",
       "      <th>10</th>\n",
       "      <td>2012</td>\n",
       "      <td>0</td>\n",
       "      <td>5</td>\n",
       "      <td>0.0</td>\n",
       "    </tr>\n",
       "    <tr>\n",
       "      <th>11</th>\n",
       "      <td>2013</td>\n",
       "      <td>1</td>\n",
       "      <td>11</td>\n",
       "      <td>9.0</td>\n",
       "    </tr>\n",
       "    <tr>\n",
       "      <th>12</th>\n",
       "      <td>2014</td>\n",
       "      <td>0</td>\n",
       "      <td>11</td>\n",
       "      <td>0.0</td>\n",
       "    </tr>\n",
       "    <tr>\n",
       "      <th>13</th>\n",
       "      <td>2015</td>\n",
       "      <td>1</td>\n",
       "      <td>7</td>\n",
       "      <td>14.0</td>\n",
       "    </tr>\n",
       "    <tr>\n",
       "      <th>14</th>\n",
       "      <td>2016</td>\n",
       "      <td>0</td>\n",
       "      <td>3</td>\n",
       "      <td>0.0</td>\n",
       "    </tr>\n",
       "  </tbody>\n",
       "</table>\n",
       "</div>"
      ],
      "text/plain": [
       "    release_year  Cantidad free  Totoal elementos  porcentaje_free\n",
       "0           2001              0                 1              0.0\n",
       "1           2003              0                 4              0.0\n",
       "2           2004              0                 2              0.0\n",
       "3           2005              0                 1              0.0\n",
       "4           2006              0                 4              0.0\n",
       "5           2007              0                 2              0.0\n",
       "6           2008              0                 6              0.0\n",
       "7           2009              0                 1              0.0\n",
       "8           2010              1                 3             33.0\n",
       "9           2011              0                 5              0.0\n",
       "10          2012              0                 5              0.0\n",
       "11          2013              1                11              9.0\n",
       "12          2014              0                11              0.0\n",
       "13          2015              1                 7             14.0\n",
       "14          2016              0                 3              0.0"
      ]
     },
     "execution_count": 123,
     "metadata": {},
     "output_type": "execute_result"
    }
   ],
   "source": [
    "filtrado['porcentaje_free']= filtrado.apply(lambda x:round(x['Cantidad free']/x['Totoal elementos'],2)*100 if x['Totoal elementos']!= 0 else 0,axis=1)\n",
    "filtrado"
   ]
  },
  {
   "cell_type": "code",
   "execution_count": 124,
   "metadata": {},
   "outputs": [
    {
     "data": {
      "text/plain": [
       "numpy.int32"
      ]
     },
     "execution_count": 124,
     "metadata": {},
     "output_type": "execute_result"
    }
   ],
   "source": [
    "type(filtrado['release_year'].iloc[0])"
   ]
  },
  {
   "cell_type": "code",
   "execution_count": 125,
   "metadata": {},
   "outputs": [
    {
     "data": {
      "text/plain": [
       "[2001,\n",
       " 2003,\n",
       " 2004,\n",
       " 2005,\n",
       " 2006,\n",
       " 2007,\n",
       " 2008,\n",
       " 2009,\n",
       " 2010,\n",
       " 2011,\n",
       " 2012,\n",
       " 2013,\n",
       " 2014,\n",
       " 2015,\n",
       " 2016]"
      ]
     },
     "execution_count": 125,
     "metadata": {},
     "output_type": "execute_result"
    }
   ],
   "source": [
    "[fila for fila in filtrado['release_year']]"
   ]
  },
  {
   "cell_type": "markdown",
   "metadata": {},
   "source": [
    "# 2 "
   ]
  },
  {
   "cell_type": "markdown",
   "metadata": {},
   "source": [
    "vamos a ver que valores tenemos de entrada"
   ]
  },
  {
   "cell_type": "code",
   "execution_count": 126,
   "metadata": {},
   "outputs": [
    {
     "data": {
      "text/plain": [
       "user_id\n",
       "sinuserid            385\n",
       "MrPolicimo             2\n",
       "camo88                 2\n",
       "76561198088224663      2\n",
       "niggerfag              1\n",
       "                    ... \n",
       "Noster69               1\n",
       "supersushi987          1\n",
       "76561198080881484      1\n",
       "76561198038572397      1\n",
       "nstokesy               1\n",
       "Name: count, Length: 2456, dtype: int64"
      ]
     },
     "execution_count": 126,
     "metadata": {},
     "output_type": "execute_result"
    }
   ],
   "source": [
    "# Cuenta los valores duplicados en la columna \"columna1\"\n",
    "conteo_duplicados = df_total['user_id'].value_counts()\n",
    "conteo_duplicados"
   ]
  },
  {
   "cell_type": "code",
   "execution_count": 135,
   "metadata": {},
   "outputs": [
    {
     "data": {
      "text/html": [
       "<div>\n",
       "<style scoped>\n",
       "    .dataframe tbody tr th:only-of-type {\n",
       "        vertical-align: middle;\n",
       "    }\n",
       "\n",
       "    .dataframe tbody tr th {\n",
       "        vertical-align: top;\n",
       "    }\n",
       "\n",
       "    .dataframe thead th {\n",
       "        text-align: right;\n",
       "    }\n",
       "</style>\n",
       "<table border=\"1\" class=\"dataframe\">\n",
       "  <thead>\n",
       "    <tr style=\"text-align: right;\">\n",
       "      <th></th>\n",
       "      <th>user_id</th>\n",
       "      <th>items_count</th>\n",
       "      <th>steam_id</th>\n",
       "      <th>item_id</th>\n",
       "      <th>item_name</th>\n",
       "      <th>playtime_forever</th>\n",
       "      <th>publisher</th>\n",
       "      <th>genres</th>\n",
       "      <th>app_name</th>\n",
       "      <th>title</th>\n",
       "      <th>...</th>\n",
       "      <th>specs</th>\n",
       "      <th>price</th>\n",
       "      <th>early_access</th>\n",
       "      <th>developer</th>\n",
       "      <th>user_url_y</th>\n",
       "      <th>funny</th>\n",
       "      <th>posted</th>\n",
       "      <th>recommend</th>\n",
       "      <th>sentiment_analysis</th>\n",
       "      <th>release_year</th>\n",
       "    </tr>\n",
       "  </thead>\n",
       "  <tbody>\n",
       "    <tr>\n",
       "      <th>1219</th>\n",
       "      <td>camo88</td>\n",
       "      <td>72.0</td>\n",
       "      <td>7.656120e+16</td>\n",
       "      <td>391460.0</td>\n",
       "      <td>WARMODE</td>\n",
       "      <td>30.0</td>\n",
       "      <td>WARTEAM</td>\n",
       "      <td>[]</td>\n",
       "      <td>WARMODE</td>\n",
       "      <td>WARMODE</td>\n",
       "      <td>...</td>\n",
       "      <td>['Multi-player', 'Steam Trading Cards']</td>\n",
       "      <td>0.0</td>\n",
       "      <td>True</td>\n",
       "      <td>WARTEAM</td>\n",
       "      <td>http://steamcommunity.com/id/tyrone266</td>\n",
       "      <td>NaN</td>\n",
       "      <td>Posted September 18, 2015.</td>\n",
       "      <td>False</td>\n",
       "      <td>2</td>\n",
       "      <td>2015</td>\n",
       "    </tr>\n",
       "    <tr>\n",
       "      <th>1220</th>\n",
       "      <td>camo88</td>\n",
       "      <td>72.0</td>\n",
       "      <td>7.656120e+16</td>\n",
       "      <td>413850.0</td>\n",
       "      <td>CS:GO Player Profiles</td>\n",
       "      <td>3.0</td>\n",
       "      <td>sindato</td>\n",
       "      <td>[]</td>\n",
       "      <td>CS:GO Player Profiles</td>\n",
       "      <td>CS:GO Player Profiles</td>\n",
       "      <td>...</td>\n",
       "      <td>NaN</td>\n",
       "      <td>0.0</td>\n",
       "      <td>False</td>\n",
       "      <td>sindev</td>\n",
       "      <td>http://steamcommunity.com/id/SALTTHEW0UND</td>\n",
       "      <td>NaN</td>\n",
       "      <td>Posted December 21, 2015.</td>\n",
       "      <td>True</td>\n",
       "      <td>1</td>\n",
       "      <td>2015</td>\n",
       "    </tr>\n",
       "  </tbody>\n",
       "</table>\n",
       "<p>2 rows × 23 columns</p>\n",
       "</div>"
      ],
      "text/plain": [
       "     user_id  items_count      steam_id   item_id              item_name  \\\n",
       "1219  camo88         72.0  7.656120e+16  391460.0                WARMODE   \n",
       "1220  camo88         72.0  7.656120e+16  413850.0  CS:GO Player Profiles   \n",
       "\n",
       "      playtime_forever publisher genres               app_name  \\\n",
       "1219              30.0   WARTEAM     []                WARMODE   \n",
       "1220               3.0   sindato     []  CS:GO Player Profiles   \n",
       "\n",
       "                      title  ...                                    specs  \\\n",
       "1219                WARMODE  ...  ['Multi-player', 'Steam Trading Cards']   \n",
       "1220  CS:GO Player Profiles  ...                                      NaN   \n",
       "\n",
       "     price early_access developer                                 user_url_y  \\\n",
       "1219   0.0         True   WARTEAM     http://steamcommunity.com/id/tyrone266   \n",
       "1220   0.0        False    sindev  http://steamcommunity.com/id/SALTTHEW0UND   \n",
       "\n",
       "      funny                      posted recommend sentiment_analysis  \\\n",
       "1219    NaN  Posted September 18, 2015.     False                  2   \n",
       "1220    NaN   Posted December 21, 2015.      True                  1   \n",
       "\n",
       "     release_year  \n",
       "1219         2015  \n",
       "1220         2015  \n",
       "\n",
       "[2 rows x 23 columns]"
      ]
     },
     "execution_count": 135,
     "metadata": {},
     "output_type": "execute_result"
    }
   ],
   "source": [
    "filtrado"
   ]
  },
  {
   "cell_type": "code",
   "execution_count": 133,
   "metadata": {},
   "outputs": [
    {
     "data": {
      "text/plain": [
       "0.0"
      ]
     },
     "execution_count": 133,
     "metadata": {},
     "output_type": "execute_result"
    }
   ],
   "source": [
    "# Agrupado\n",
    "filtrado=df_total[df_total['user_id']==\"camo88\"]\n",
    "\n",
    "gastado=filtrado['price'].sum()\n",
    "gastado"
   ]
  },
  {
   "cell_type": "code",
   "execution_count": 134,
   "metadata": {},
   "outputs": [
    {
     "data": {
      "text/plain": [
       "2"
      ]
     },
     "execution_count": 134,
     "metadata": {},
     "output_type": "execute_result"
    }
   ],
   "source": [
    "cantidad_items=filtrado.shape[0]\n",
    "cantidad_items"
   ]
  },
  {
   "cell_type": "code",
   "execution_count": 137,
   "metadata": {},
   "outputs": [
    {
     "data": {
      "text/plain": [
       "1"
      ]
     },
     "execution_count": 137,
     "metadata": {},
     "output_type": "execute_result"
    }
   ],
   "source": [
    "positivo=[reco for reco in filtrado['recommend'] if reco==True]\n",
    "cant_pos=len(positivo)\n",
    "cant_pos"
   ]
  },
  {
   "cell_type": "code",
   "execution_count": 138,
   "metadata": {},
   "outputs": [
    {
     "data": {
      "text/plain": [
       "0.5"
      ]
     },
     "execution_count": 138,
     "metadata": {},
     "output_type": "execute_result"
    }
   ],
   "source": [
    "porcentaje=cant_pos/cantidad_items\n",
    "porcentaje"
   ]
  },
  {
   "cell_type": "markdown",
   "metadata": {},
   "source": [
    "# 3"
   ]
  },
  {
   "cell_type": "markdown",
   "metadata": {},
   "source": [
    "vemos los valores de entrada "
   ]
  },
  {
   "cell_type": "code",
   "execution_count": 139,
   "metadata": {},
   "outputs": [
    {
     "data": {
      "text/plain": [
       "genres\n",
       "[]    2843\n",
       "Name: count, dtype: int64"
      ]
     },
     "execution_count": 139,
     "metadata": {},
     "output_type": "execute_result"
    }
   ],
   "source": [
    "# Cuenta los valores duplicados en la columna \"columna1\"\n",
    "conteo_duplicados = df_total['genres'].value_counts()\n",
    "conteo_duplicados"
   ]
  },
  {
   "cell_type": "code",
   "execution_count": 140,
   "metadata": {},
   "outputs": [
    {
     "data": {
      "text/plain": [
       "0       []\n",
       "1       []\n",
       "2       []\n",
       "3       []\n",
       "4       []\n",
       "        ..\n",
       "2923    []\n",
       "2924    []\n",
       "2925    []\n",
       "2926    []\n",
       "2927    []\n",
       "Name: genres, Length: 2843, dtype: object"
      ]
     },
     "execution_count": 140,
     "metadata": {},
     "output_type": "execute_result"
    }
   ],
   "source": [
    "df_total['genres']"
   ]
  },
  {
   "cell_type": "code",
   "execution_count": null,
   "metadata": {},
   "outputs": [],
   "source": [
    "# Agrupado\n",
    "filtrado=df_total['action' in df_total['user_id']]\n",
    "\n",
    "gastado=filtrado['price'].sum()\n",
    "gastado"
   ]
  },
  {
   "cell_type": "code",
   "execution_count": null,
   "metadata": {},
   "outputs": [],
   "source": [
    "usuarioM="
   ]
  },
  {
   "cell_type": "markdown",
   "metadata": {},
   "source": [
    "# 4"
   ]
  },
  {
   "cell_type": "code",
   "execution_count": 4,
   "metadata": {},
   "outputs": [],
   "source": [
    "df_total = pd.read_csv(r\"consulta1.csv\")"
   ]
  },
  {
   "cell_type": "markdown",
   "metadata": {},
   "source": [
    "valores de entrada"
   ]
  },
  {
   "cell_type": "code",
   "execution_count": 5,
   "metadata": {},
   "outputs": [
    {
     "data": {
      "text/plain": [
       "release_year\n",
       "2015    632\n",
       "2014    529\n",
       "2016    391\n",
       "2013    319\n",
       "2012    215\n",
       "2011    158\n",
       "2010    106\n",
       "2009     89\n",
       "2008     63\n",
       "2007     50\n",
       "2017     50\n",
       "2006     49\n",
       "2005     32\n",
       "2003     27\n",
       "2004     25\n",
       "2001     17\n",
       "1998     14\n",
       "2002     14\n",
       "1997     13\n",
       "1999     13\n",
       "2000     11\n",
       "1994      6\n",
       "1995      5\n",
       "1996      5\n",
       "1993      3\n",
       "1992      3\n",
       "1990      2\n",
       "1991      1\n",
       "1989      1\n",
       "Name: count, dtype: int64"
      ]
     },
     "execution_count": 5,
     "metadata": {},
     "output_type": "execute_result"
    }
   ],
   "source": [
    "# Cuenta los valores duplicados en la columna \"columna1\"\n",
    "conteo_duplicados = df_total['release_year'].value_counts()\n",
    "conteo_duplicados"
   ]
  },
  {
   "cell_type": "code",
   "execution_count": 143,
   "metadata": {},
   "outputs": [
    {
     "data": {
      "text/plain": [
       "0.8083010903974674"
      ]
     },
     "execution_count": 143,
     "metadata": {},
     "output_type": "execute_result"
    }
   ],
   "source": [
    "cantidad_items=df_total.shape[0]\n",
    "positivo=[reco for reco in df_total['recommend'] if reco==True]\n",
    "cant_pos=len(positivo)\n",
    "porcentaje=cant_pos/cantidad_items\n",
    "porcentaje"
   ]
  },
  {
   "cell_type": "markdown",
   "metadata": {},
   "source": []
  },
  {
   "cell_type": "code",
   "execution_count": 219,
   "metadata": {},
   "outputs": [
    {
     "data": {
      "text/html": [
       "<div>\n",
       "<style scoped>\n",
       "    .dataframe tbody tr th:only-of-type {\n",
       "        vertical-align: middle;\n",
       "    }\n",
       "\n",
       "    .dataframe tbody tr th {\n",
       "        vertical-align: top;\n",
       "    }\n",
       "\n",
       "    .dataframe thead th {\n",
       "        text-align: right;\n",
       "    }\n",
       "</style>\n",
       "<table border=\"1\" class=\"dataframe\">\n",
       "  <thead>\n",
       "    <tr style=\"text-align: right;\">\n",
       "      <th></th>\n",
       "      <th>release_year</th>\n",
       "      <th>cantidad</th>\n",
       "      <th>user_id</th>\n",
       "      <th>cantidad_pos</th>\n",
       "    </tr>\n",
       "  </thead>\n",
       "  <tbody>\n",
       "    <tr>\n",
       "      <th>0</th>\n",
       "      <td>1989</td>\n",
       "      <td>1</td>\n",
       "      <td>76561198002435405</td>\n",
       "      <td>1</td>\n",
       "    </tr>\n",
       "    <tr>\n",
       "      <th>1</th>\n",
       "      <td>1990</td>\n",
       "      <td>2</td>\n",
       "      <td>76561198033246452</td>\n",
       "      <td>1</td>\n",
       "    </tr>\n",
       "    <tr>\n",
       "      <th>2</th>\n",
       "      <td>1990</td>\n",
       "      <td>2</td>\n",
       "      <td>Scooterinooo</td>\n",
       "      <td>1</td>\n",
       "    </tr>\n",
       "    <tr>\n",
       "      <th>3</th>\n",
       "      <td>1991</td>\n",
       "      <td>1</td>\n",
       "      <td>76561198090724989</td>\n",
       "      <td>1</td>\n",
       "    </tr>\n",
       "    <tr>\n",
       "      <th>4</th>\n",
       "      <td>1992</td>\n",
       "      <td>3</td>\n",
       "      <td>76561198059432403</td>\n",
       "      <td>1</td>\n",
       "    </tr>\n",
       "    <tr>\n",
       "      <th>...</th>\n",
       "      <td>...</td>\n",
       "      <td>...</td>\n",
       "      <td>...</td>\n",
       "      <td>...</td>\n",
       "    </tr>\n",
       "    <tr>\n",
       "      <th>2469</th>\n",
       "      <td>2017</td>\n",
       "      <td>50</td>\n",
       "      <td>gusso10_</td>\n",
       "      <td>1</td>\n",
       "    </tr>\n",
       "    <tr>\n",
       "      <th>2470</th>\n",
       "      <td>2017</td>\n",
       "      <td>50</td>\n",
       "      <td>limlolhao</td>\n",
       "      <td>1</td>\n",
       "    </tr>\n",
       "    <tr>\n",
       "      <th>2471</th>\n",
       "      <td>2017</td>\n",
       "      <td>50</td>\n",
       "      <td>sinuserid</td>\n",
       "      <td>7</td>\n",
       "    </tr>\n",
       "    <tr>\n",
       "      <th>2472</th>\n",
       "      <td>2017</td>\n",
       "      <td>50</td>\n",
       "      <td>thor2424</td>\n",
       "      <td>1</td>\n",
       "    </tr>\n",
       "    <tr>\n",
       "      <th>2473</th>\n",
       "      <td>2017</td>\n",
       "      <td>50</td>\n",
       "      <td>timberlandboottothehead</td>\n",
       "      <td>1</td>\n",
       "    </tr>\n",
       "  </tbody>\n",
       "</table>\n",
       "<p>2474 rows × 4 columns</p>\n",
       "</div>"
      ],
      "text/plain": [
       "      release_year  cantidad                  user_id  cantidad_pos\n",
       "0             1989         1        76561198002435405             1\n",
       "1             1990         2        76561198033246452             1\n",
       "2             1990         2             Scooterinooo             1\n",
       "3             1991         1        76561198090724989             1\n",
       "4             1992         3        76561198059432403             1\n",
       "...            ...       ...                      ...           ...\n",
       "2469          2017        50                 gusso10_             1\n",
       "2470          2017        50                limlolhao             1\n",
       "2471          2017        50                sinuserid             7\n",
       "2472          2017        50                 thor2424             1\n",
       "2473          2017        50  timberlandboottothehead             1\n",
       "\n",
       "[2474 rows x 4 columns]"
      ]
     },
     "execution_count": 219,
     "metadata": {},
     "output_type": "execute_result"
    }
   ],
   "source": []
  },
  {
   "cell_type": "code",
   "execution_count": 222,
   "metadata": {},
   "outputs": [],
   "source": []
  },
  {
   "cell_type": "code",
   "execution_count": null,
   "metadata": {},
   "outputs": [],
   "source": []
  },
  {
   "cell_type": "code",
   "execution_count": null,
   "metadata": {},
   "outputs": [],
   "source": []
  },
  {
   "cell_type": "code",
   "execution_count": 15,
   "metadata": {},
   "outputs": [
    {
     "data": {
      "text/html": [
       "<div>\n",
       "<style scoped>\n",
       "    .dataframe tbody tr th:only-of-type {\n",
       "        vertical-align: middle;\n",
       "    }\n",
       "\n",
       "    .dataframe tbody tr th {\n",
       "        vertical-align: top;\n",
       "    }\n",
       "\n",
       "    .dataframe thead th {\n",
       "        text-align: right;\n",
       "    }\n",
       "</style>\n",
       "<table border=\"1\" class=\"dataframe\">\n",
       "  <thead>\n",
       "    <tr style=\"text-align: right;\">\n",
       "      <th></th>\n",
       "      <th>release_year</th>\n",
       "      <th>developer</th>\n",
       "      <th>cantidad_pos</th>\n",
       "    </tr>\n",
       "  </thead>\n",
       "  <tbody>\n",
       "    <tr>\n",
       "      <th>0</th>\n",
       "      <td>1989</td>\n",
       "      <td>MicroProse Software, Inc</td>\n",
       "      <td>1</td>\n",
       "    </tr>\n",
       "    <tr>\n",
       "      <th>1</th>\n",
       "      <td>1990</td>\n",
       "      <td>LucasArts</td>\n",
       "      <td>1</td>\n",
       "    </tr>\n",
       "    <tr>\n",
       "      <th>2</th>\n",
       "      <td>1990</td>\n",
       "      <td>id Software</td>\n",
       "      <td>1</td>\n",
       "    </tr>\n",
       "    <tr>\n",
       "      <th>3</th>\n",
       "      <td>1991</td>\n",
       "      <td>3D Realms (Apogee Software)</td>\n",
       "      <td>1</td>\n",
       "    </tr>\n",
       "    <tr>\n",
       "      <th>4</th>\n",
       "      <td>1992</td>\n",
       "      <td>3D Realms (Apogee Software)</td>\n",
       "      <td>1</td>\n",
       "    </tr>\n",
       "    <tr>\n",
       "      <th>...</th>\n",
       "      <td>...</td>\n",
       "      <td>...</td>\n",
       "      <td>...</td>\n",
       "    </tr>\n",
       "    <tr>\n",
       "      <th>2620</th>\n",
       "      <td>2017</td>\n",
       "      <td>Targem Games</td>\n",
       "      <td>1</td>\n",
       "    </tr>\n",
       "    <tr>\n",
       "      <th>2621</th>\n",
       "      <td>2017</td>\n",
       "      <td>Tlön Studios,Ilex Games</td>\n",
       "      <td>1</td>\n",
       "    </tr>\n",
       "    <tr>\n",
       "      <th>2622</th>\n",
       "      <td>2017</td>\n",
       "      <td>Trendy Entertainment</td>\n",
       "      <td>1</td>\n",
       "    </tr>\n",
       "    <tr>\n",
       "      <th>2623</th>\n",
       "      <td>2017</td>\n",
       "      <td>Wolfire Games</td>\n",
       "      <td>1</td>\n",
       "    </tr>\n",
       "    <tr>\n",
       "      <th>2624</th>\n",
       "      <td>2017</td>\n",
       "      <td>oddonegames</td>\n",
       "      <td>1</td>\n",
       "    </tr>\n",
       "  </tbody>\n",
       "</table>\n",
       "<p>2625 rows × 3 columns</p>\n",
       "</div>"
      ],
      "text/plain": [
       "      release_year                    developer  cantidad_pos\n",
       "0             1989     MicroProse Software, Inc             1\n",
       "1             1990                    LucasArts             1\n",
       "2             1990                  id Software             1\n",
       "3             1991  3D Realms (Apogee Software)             1\n",
       "4             1992  3D Realms (Apogee Software)             1\n",
       "...            ...                          ...           ...\n",
       "2620          2017                 Targem Games             1\n",
       "2621          2017      Tlön Studios,Ilex Games             1\n",
       "2622          2017         Trendy Entertainment             1\n",
       "2623          2017                Wolfire Games             1\n",
       "2624          2017                  oddonegames             1\n",
       "\n",
       "[2625 rows x 3 columns]"
      ]
     },
     "execution_count": 15,
     "metadata": {},
     "output_type": "execute_result"
    }
   ],
   "source": [
    "cantpos = df_total.groupby(['release_year','developer'])['recommend'].agg([('cantidad_pos',lambda x:(x==True).count())])\n",
    "cantpos=cantpos.reset_index()\n",
    "cantpos"
   ]
  },
  {
   "cell_type": "code",
   "execution_count": 11,
   "metadata": {},
   "outputs": [
    {
     "data": {
      "text/html": [
       "<div>\n",
       "<style scoped>\n",
       "    .dataframe tbody tr th:only-of-type {\n",
       "        vertical-align: middle;\n",
       "    }\n",
       "\n",
       "    .dataframe tbody tr th {\n",
       "        vertical-align: top;\n",
       "    }\n",
       "\n",
       "    .dataframe thead th {\n",
       "        text-align: right;\n",
       "    }\n",
       "</style>\n",
       "<table border=\"1\" class=\"dataframe\">\n",
       "  <thead>\n",
       "    <tr style=\"text-align: right;\">\n",
       "      <th></th>\n",
       "      <th>release_year</th>\n",
       "      <th>cantidad</th>\n",
       "    </tr>\n",
       "  </thead>\n",
       "  <tbody>\n",
       "    <tr>\n",
       "      <th>0</th>\n",
       "      <td>1989</td>\n",
       "      <td>1</td>\n",
       "    </tr>\n",
       "    <tr>\n",
       "      <th>1</th>\n",
       "      <td>1990</td>\n",
       "      <td>2</td>\n",
       "    </tr>\n",
       "    <tr>\n",
       "      <th>2</th>\n",
       "      <td>1991</td>\n",
       "      <td>1</td>\n",
       "    </tr>\n",
       "    <tr>\n",
       "      <th>3</th>\n",
       "      <td>1992</td>\n",
       "      <td>3</td>\n",
       "    </tr>\n",
       "    <tr>\n",
       "      <th>4</th>\n",
       "      <td>1993</td>\n",
       "      <td>3</td>\n",
       "    </tr>\n",
       "    <tr>\n",
       "      <th>5</th>\n",
       "      <td>1994</td>\n",
       "      <td>6</td>\n",
       "    </tr>\n",
       "    <tr>\n",
       "      <th>6</th>\n",
       "      <td>1995</td>\n",
       "      <td>5</td>\n",
       "    </tr>\n",
       "    <tr>\n",
       "      <th>7</th>\n",
       "      <td>1996</td>\n",
       "      <td>5</td>\n",
       "    </tr>\n",
       "    <tr>\n",
       "      <th>8</th>\n",
       "      <td>1997</td>\n",
       "      <td>13</td>\n",
       "    </tr>\n",
       "    <tr>\n",
       "      <th>9</th>\n",
       "      <td>1998</td>\n",
       "      <td>14</td>\n",
       "    </tr>\n",
       "    <tr>\n",
       "      <th>10</th>\n",
       "      <td>1999</td>\n",
       "      <td>13</td>\n",
       "    </tr>\n",
       "    <tr>\n",
       "      <th>11</th>\n",
       "      <td>2000</td>\n",
       "      <td>11</td>\n",
       "    </tr>\n",
       "    <tr>\n",
       "      <th>12</th>\n",
       "      <td>2001</td>\n",
       "      <td>17</td>\n",
       "    </tr>\n",
       "    <tr>\n",
       "      <th>13</th>\n",
       "      <td>2002</td>\n",
       "      <td>14</td>\n",
       "    </tr>\n",
       "    <tr>\n",
       "      <th>14</th>\n",
       "      <td>2003</td>\n",
       "      <td>27</td>\n",
       "    </tr>\n",
       "    <tr>\n",
       "      <th>15</th>\n",
       "      <td>2004</td>\n",
       "      <td>25</td>\n",
       "    </tr>\n",
       "    <tr>\n",
       "      <th>16</th>\n",
       "      <td>2005</td>\n",
       "      <td>32</td>\n",
       "    </tr>\n",
       "    <tr>\n",
       "      <th>17</th>\n",
       "      <td>2006</td>\n",
       "      <td>49</td>\n",
       "    </tr>\n",
       "    <tr>\n",
       "      <th>18</th>\n",
       "      <td>2007</td>\n",
       "      <td>50</td>\n",
       "    </tr>\n",
       "    <tr>\n",
       "      <th>19</th>\n",
       "      <td>2008</td>\n",
       "      <td>63</td>\n",
       "    </tr>\n",
       "    <tr>\n",
       "      <th>20</th>\n",
       "      <td>2009</td>\n",
       "      <td>89</td>\n",
       "    </tr>\n",
       "    <tr>\n",
       "      <th>21</th>\n",
       "      <td>2010</td>\n",
       "      <td>106</td>\n",
       "    </tr>\n",
       "    <tr>\n",
       "      <th>22</th>\n",
       "      <td>2011</td>\n",
       "      <td>158</td>\n",
       "    </tr>\n",
       "    <tr>\n",
       "      <th>23</th>\n",
       "      <td>2012</td>\n",
       "      <td>215</td>\n",
       "    </tr>\n",
       "    <tr>\n",
       "      <th>24</th>\n",
       "      <td>2013</td>\n",
       "      <td>319</td>\n",
       "    </tr>\n",
       "    <tr>\n",
       "      <th>25</th>\n",
       "      <td>2014</td>\n",
       "      <td>529</td>\n",
       "    </tr>\n",
       "    <tr>\n",
       "      <th>26</th>\n",
       "      <td>2015</td>\n",
       "      <td>632</td>\n",
       "    </tr>\n",
       "    <tr>\n",
       "      <th>27</th>\n",
       "      <td>2016</td>\n",
       "      <td>391</td>\n",
       "    </tr>\n",
       "    <tr>\n",
       "      <th>28</th>\n",
       "      <td>2017</td>\n",
       "      <td>50</td>\n",
       "    </tr>\n",
       "  </tbody>\n",
       "</table>\n",
       "</div>"
      ],
      "text/plain": [
       "    release_year  cantidad\n",
       "0           1989         1\n",
       "1           1990         2\n",
       "2           1991         1\n",
       "3           1992         3\n",
       "4           1993         3\n",
       "5           1994         6\n",
       "6           1995         5\n",
       "7           1996         5\n",
       "8           1997        13\n",
       "9           1998        14\n",
       "10          1999        13\n",
       "11          2000        11\n",
       "12          2001        17\n",
       "13          2002        14\n",
       "14          2003        27\n",
       "15          2004        25\n",
       "16          2005        32\n",
       "17          2006        49\n",
       "18          2007        50\n",
       "19          2008        63\n",
       "20          2009        89\n",
       "21          2010       106\n",
       "22          2011       158\n",
       "23          2012       215\n",
       "24          2013       319\n",
       "25          2014       529\n",
       "26          2015       632\n",
       "27          2016       391\n",
       "28          2017        50"
      ]
     },
     "execution_count": 11,
     "metadata": {},
     "output_type": "execute_result"
    }
   ],
   "source": [
    "top_developers = df_total.groupby('release_year')['user_id'].agg([('cantidad','count')])\n",
    "top_developers=top_developers.reset_index()\n",
    "top_developers"
   ]
  },
  {
   "cell_type": "code",
   "execution_count": 16,
   "metadata": {},
   "outputs": [
    {
     "data": {
      "text/html": [
       "<div>\n",
       "<style scoped>\n",
       "    .dataframe tbody tr th:only-of-type {\n",
       "        vertical-align: middle;\n",
       "    }\n",
       "\n",
       "    .dataframe tbody tr th {\n",
       "        vertical-align: top;\n",
       "    }\n",
       "\n",
       "    .dataframe thead th {\n",
       "        text-align: right;\n",
       "    }\n",
       "</style>\n",
       "<table border=\"1\" class=\"dataframe\">\n",
       "  <thead>\n",
       "    <tr style=\"text-align: right;\">\n",
       "      <th></th>\n",
       "      <th>release_year</th>\n",
       "      <th>cantidad</th>\n",
       "      <th>developer</th>\n",
       "      <th>cantidad_pos</th>\n",
       "    </tr>\n",
       "  </thead>\n",
       "  <tbody>\n",
       "    <tr>\n",
       "      <th>0</th>\n",
       "      <td>1989</td>\n",
       "      <td>1</td>\n",
       "      <td>MicroProse Software, Inc</td>\n",
       "      <td>1</td>\n",
       "    </tr>\n",
       "    <tr>\n",
       "      <th>1</th>\n",
       "      <td>1990</td>\n",
       "      <td>2</td>\n",
       "      <td>LucasArts</td>\n",
       "      <td>1</td>\n",
       "    </tr>\n",
       "    <tr>\n",
       "      <th>2</th>\n",
       "      <td>1990</td>\n",
       "      <td>2</td>\n",
       "      <td>id Software</td>\n",
       "      <td>1</td>\n",
       "    </tr>\n",
       "    <tr>\n",
       "      <th>3</th>\n",
       "      <td>1991</td>\n",
       "      <td>1</td>\n",
       "      <td>3D Realms (Apogee Software)</td>\n",
       "      <td>1</td>\n",
       "    </tr>\n",
       "    <tr>\n",
       "      <th>4</th>\n",
       "      <td>1992</td>\n",
       "      <td>3</td>\n",
       "      <td>3D Realms (Apogee Software)</td>\n",
       "      <td>1</td>\n",
       "    </tr>\n",
       "    <tr>\n",
       "      <th>...</th>\n",
       "      <td>...</td>\n",
       "      <td>...</td>\n",
       "      <td>...</td>\n",
       "      <td>...</td>\n",
       "    </tr>\n",
       "    <tr>\n",
       "      <th>2620</th>\n",
       "      <td>2017</td>\n",
       "      <td>50</td>\n",
       "      <td>Targem Games</td>\n",
       "      <td>1</td>\n",
       "    </tr>\n",
       "    <tr>\n",
       "      <th>2621</th>\n",
       "      <td>2017</td>\n",
       "      <td>50</td>\n",
       "      <td>Tlön Studios,Ilex Games</td>\n",
       "      <td>1</td>\n",
       "    </tr>\n",
       "    <tr>\n",
       "      <th>2622</th>\n",
       "      <td>2017</td>\n",
       "      <td>50</td>\n",
       "      <td>Trendy Entertainment</td>\n",
       "      <td>1</td>\n",
       "    </tr>\n",
       "    <tr>\n",
       "      <th>2623</th>\n",
       "      <td>2017</td>\n",
       "      <td>50</td>\n",
       "      <td>Wolfire Games</td>\n",
       "      <td>1</td>\n",
       "    </tr>\n",
       "    <tr>\n",
       "      <th>2624</th>\n",
       "      <td>2017</td>\n",
       "      <td>50</td>\n",
       "      <td>oddonegames</td>\n",
       "      <td>1</td>\n",
       "    </tr>\n",
       "  </tbody>\n",
       "</table>\n",
       "<p>2625 rows × 4 columns</p>\n",
       "</div>"
      ],
      "text/plain": [
       "      release_year  cantidad                    developer  cantidad_pos\n",
       "0             1989         1     MicroProse Software, Inc             1\n",
       "1             1990         2                    LucasArts             1\n",
       "2             1990         2                  id Software             1\n",
       "3             1991         1  3D Realms (Apogee Software)             1\n",
       "4             1992         3  3D Realms (Apogee Software)             1\n",
       "...            ...       ...                          ...           ...\n",
       "2620          2017        50                 Targem Games             1\n",
       "2621          2017        50      Tlön Studios,Ilex Games             1\n",
       "2622          2017        50         Trendy Entertainment             1\n",
       "2623          2017        50                Wolfire Games             1\n",
       "2624          2017        50                  oddonegames             1\n",
       "\n",
       "[2625 rows x 4 columns]"
      ]
     },
     "execution_count": 16,
     "metadata": {},
     "output_type": "execute_result"
    }
   ],
   "source": [
    "# Combinar DataFrames utilizando 'merge'\n",
    "resultado = top_developers.merge(cantpos, on='release_year', how='outer')\n",
    "resultado"
   ]
  },
  {
   "cell_type": "code",
   "execution_count": 17,
   "metadata": {},
   "outputs": [
    {
     "data": {
      "text/html": [
       "<div>\n",
       "<style scoped>\n",
       "    .dataframe tbody tr th:only-of-type {\n",
       "        vertical-align: middle;\n",
       "    }\n",
       "\n",
       "    .dataframe tbody tr th {\n",
       "        vertical-align: top;\n",
       "    }\n",
       "\n",
       "    .dataframe thead th {\n",
       "        text-align: right;\n",
       "    }\n",
       "</style>\n",
       "<table border=\"1\" class=\"dataframe\">\n",
       "  <thead>\n",
       "    <tr style=\"text-align: right;\">\n",
       "      <th></th>\n",
       "      <th>release_year</th>\n",
       "      <th>cantidad</th>\n",
       "      <th>developer</th>\n",
       "      <th>cantidad_pos</th>\n",
       "      <th>total</th>\n",
       "    </tr>\n",
       "  </thead>\n",
       "  <tbody>\n",
       "    <tr>\n",
       "      <th>0</th>\n",
       "      <td>1989</td>\n",
       "      <td>1</td>\n",
       "      <td>MicroProse Software, Inc</td>\n",
       "      <td>1</td>\n",
       "      <td>1.000000</td>\n",
       "    </tr>\n",
       "    <tr>\n",
       "      <th>1</th>\n",
       "      <td>1990</td>\n",
       "      <td>2</td>\n",
       "      <td>LucasArts</td>\n",
       "      <td>1</td>\n",
       "      <td>0.500000</td>\n",
       "    </tr>\n",
       "    <tr>\n",
       "      <th>2</th>\n",
       "      <td>1990</td>\n",
       "      <td>2</td>\n",
       "      <td>id Software</td>\n",
       "      <td>1</td>\n",
       "      <td>0.500000</td>\n",
       "    </tr>\n",
       "    <tr>\n",
       "      <th>3</th>\n",
       "      <td>1991</td>\n",
       "      <td>1</td>\n",
       "      <td>3D Realms (Apogee Software)</td>\n",
       "      <td>1</td>\n",
       "      <td>1.000000</td>\n",
       "    </tr>\n",
       "    <tr>\n",
       "      <th>4</th>\n",
       "      <td>1992</td>\n",
       "      <td>3</td>\n",
       "      <td>3D Realms (Apogee Software)</td>\n",
       "      <td>1</td>\n",
       "      <td>0.333333</td>\n",
       "    </tr>\n",
       "    <tr>\n",
       "      <th>...</th>\n",
       "      <td>...</td>\n",
       "      <td>...</td>\n",
       "      <td>...</td>\n",
       "      <td>...</td>\n",
       "      <td>...</td>\n",
       "    </tr>\n",
       "    <tr>\n",
       "      <th>2620</th>\n",
       "      <td>2017</td>\n",
       "      <td>50</td>\n",
       "      <td>Targem Games</td>\n",
       "      <td>1</td>\n",
       "      <td>0.020000</td>\n",
       "    </tr>\n",
       "    <tr>\n",
       "      <th>2621</th>\n",
       "      <td>2017</td>\n",
       "      <td>50</td>\n",
       "      <td>Tlön Studios,Ilex Games</td>\n",
       "      <td>1</td>\n",
       "      <td>0.020000</td>\n",
       "    </tr>\n",
       "    <tr>\n",
       "      <th>2622</th>\n",
       "      <td>2017</td>\n",
       "      <td>50</td>\n",
       "      <td>Trendy Entertainment</td>\n",
       "      <td>1</td>\n",
       "      <td>0.020000</td>\n",
       "    </tr>\n",
       "    <tr>\n",
       "      <th>2623</th>\n",
       "      <td>2017</td>\n",
       "      <td>50</td>\n",
       "      <td>Wolfire Games</td>\n",
       "      <td>1</td>\n",
       "      <td>0.020000</td>\n",
       "    </tr>\n",
       "    <tr>\n",
       "      <th>2624</th>\n",
       "      <td>2017</td>\n",
       "      <td>50</td>\n",
       "      <td>oddonegames</td>\n",
       "      <td>1</td>\n",
       "      <td>0.020000</td>\n",
       "    </tr>\n",
       "  </tbody>\n",
       "</table>\n",
       "<p>2625 rows × 5 columns</p>\n",
       "</div>"
      ],
      "text/plain": [
       "      release_year  cantidad                    developer  cantidad_pos  \\\n",
       "0             1989         1     MicroProse Software, Inc             1   \n",
       "1             1990         2                    LucasArts             1   \n",
       "2             1990         2                  id Software             1   \n",
       "3             1991         1  3D Realms (Apogee Software)             1   \n",
       "4             1992         3  3D Realms (Apogee Software)             1   \n",
       "...            ...       ...                          ...           ...   \n",
       "2620          2017        50                 Targem Games             1   \n",
       "2621          2017        50      Tlön Studios,Ilex Games             1   \n",
       "2622          2017        50         Trendy Entertainment             1   \n",
       "2623          2017        50                Wolfire Games             1   \n",
       "2624          2017        50                  oddonegames             1   \n",
       "\n",
       "         total  \n",
       "0     1.000000  \n",
       "1     0.500000  \n",
       "2     0.500000  \n",
       "3     1.000000  \n",
       "4     0.333333  \n",
       "...        ...  \n",
       "2620  0.020000  \n",
       "2621  0.020000  \n",
       "2622  0.020000  \n",
       "2623  0.020000  \n",
       "2624  0.020000  \n",
       "\n",
       "[2625 rows x 5 columns]"
      ]
     },
     "execution_count": 17,
     "metadata": {},
     "output_type": "execute_result"
    }
   ],
   "source": [
    "resultado['total']=resultado['cantidad_pos']/resultado['cantidad']\n",
    "resultado"
   ]
  },
  {
   "cell_type": "code",
   "execution_count": 18,
   "metadata": {},
   "outputs": [
    {
     "data": {
      "text/html": [
       "<div>\n",
       "<style scoped>\n",
       "    .dataframe tbody tr th:only-of-type {\n",
       "        vertical-align: middle;\n",
       "    }\n",
       "\n",
       "    .dataframe tbody tr th {\n",
       "        vertical-align: top;\n",
       "    }\n",
       "\n",
       "    .dataframe thead th {\n",
       "        text-align: right;\n",
       "    }\n",
       "</style>\n",
       "<table border=\"1\" class=\"dataframe\">\n",
       "  <thead>\n",
       "    <tr style=\"text-align: right;\">\n",
       "      <th></th>\n",
       "      <th>release_year</th>\n",
       "      <th>cantidad</th>\n",
       "      <th>developer</th>\n",
       "      <th>cantidad_pos</th>\n",
       "      <th>total</th>\n",
       "    </tr>\n",
       "  </thead>\n",
       "  <tbody>\n",
       "    <tr>\n",
       "      <th>0</th>\n",
       "      <td>1989</td>\n",
       "      <td>1</td>\n",
       "      <td>MicroProse Software, Inc</td>\n",
       "      <td>1</td>\n",
       "      <td>1.000000</td>\n",
       "    </tr>\n",
       "    <tr>\n",
       "      <th>3</th>\n",
       "      <td>1991</td>\n",
       "      <td>1</td>\n",
       "      <td>3D Realms (Apogee Software)</td>\n",
       "      <td>1</td>\n",
       "      <td>1.000000</td>\n",
       "    </tr>\n",
       "    <tr>\n",
       "      <th>1</th>\n",
       "      <td>1990</td>\n",
       "      <td>2</td>\n",
       "      <td>LucasArts</td>\n",
       "      <td>1</td>\n",
       "      <td>0.500000</td>\n",
       "    </tr>\n",
       "    <tr>\n",
       "      <th>2</th>\n",
       "      <td>1990</td>\n",
       "      <td>2</td>\n",
       "      <td>id Software</td>\n",
       "      <td>1</td>\n",
       "      <td>0.500000</td>\n",
       "    </tr>\n",
       "    <tr>\n",
       "      <th>18</th>\n",
       "      <td>1995</td>\n",
       "      <td>5</td>\n",
       "      <td>id Software</td>\n",
       "      <td>2</td>\n",
       "      <td>0.400000</td>\n",
       "    </tr>\n",
       "    <tr>\n",
       "      <th>...</th>\n",
       "      <td>...</td>\n",
       "      <td>...</td>\n",
       "      <td>...</td>\n",
       "      <td>...</td>\n",
       "      <td>...</td>\n",
       "    </tr>\n",
       "    <tr>\n",
       "      <th>1966</th>\n",
       "      <td>2015</td>\n",
       "      <td>632</td>\n",
       "      <td>Offworld Industries</td>\n",
       "      <td>1</td>\n",
       "      <td>0.001582</td>\n",
       "    </tr>\n",
       "    <tr>\n",
       "      <th>1967</th>\n",
       "      <td>2015</td>\n",
       "      <td>632</td>\n",
       "      <td>OhNoo Studio</td>\n",
       "      <td>1</td>\n",
       "      <td>0.001582</td>\n",
       "    </tr>\n",
       "    <tr>\n",
       "      <th>1968</th>\n",
       "      <td>2015</td>\n",
       "      <td>632</td>\n",
       "      <td>Olde Sküül,Sculptured Software</td>\n",
       "      <td>1</td>\n",
       "      <td>0.001582</td>\n",
       "    </tr>\n",
       "    <tr>\n",
       "      <th>1969</th>\n",
       "      <td>2015</td>\n",
       "      <td>632</td>\n",
       "      <td>Orange_Juice</td>\n",
       "      <td>1</td>\n",
       "      <td>0.001582</td>\n",
       "    </tr>\n",
       "    <tr>\n",
       "      <th>2120</th>\n",
       "      <td>2015</td>\n",
       "      <td>632</td>\n",
       "      <td>TimeSymmetry</td>\n",
       "      <td>1</td>\n",
       "      <td>0.001582</td>\n",
       "    </tr>\n",
       "  </tbody>\n",
       "</table>\n",
       "<p>2625 rows × 5 columns</p>\n",
       "</div>"
      ],
      "text/plain": [
       "      release_year  cantidad                       developer  cantidad_pos  \\\n",
       "0             1989         1        MicroProse Software, Inc             1   \n",
       "3             1991         1     3D Realms (Apogee Software)             1   \n",
       "1             1990         2                       LucasArts             1   \n",
       "2             1990         2                     id Software             1   \n",
       "18            1995         5                     id Software             2   \n",
       "...            ...       ...                             ...           ...   \n",
       "1966          2015       632             Offworld Industries             1   \n",
       "1967          2015       632                    OhNoo Studio             1   \n",
       "1968          2015       632  Olde Sküül,Sculptured Software             1   \n",
       "1969          2015       632                    Orange_Juice             1   \n",
       "2120          2015       632                    TimeSymmetry             1   \n",
       "\n",
       "         total  \n",
       "0     1.000000  \n",
       "3     1.000000  \n",
       "1     0.500000  \n",
       "2     0.500000  \n",
       "18    0.400000  \n",
       "...        ...  \n",
       "1966  0.001582  \n",
       "1967  0.001582  \n",
       "1968  0.001582  \n",
       "1969  0.001582  \n",
       "2120  0.001582  \n",
       "\n",
       "[2625 rows x 5 columns]"
      ]
     },
     "execution_count": 18,
     "metadata": {},
     "output_type": "execute_result"
    }
   ],
   "source": [
    "resultado=resultado.sort_values(by='total', ascending=False)\n",
    "resultado"
   ]
  },
  {
   "cell_type": "code",
   "execution_count": 22,
   "metadata": {},
   "outputs": [
    {
     "data": {
      "text/plain": [
       "100.0"
      ]
     },
     "execution_count": 22,
     "metadata": {},
     "output_type": "execute_result"
    }
   ],
   "source": [
    "resultado.iloc[0]['total']*100"
   ]
  },
  {
   "cell_type": "code",
   "execution_count": 48,
   "metadata": {},
   "outputs": [
    {
     "data": {
      "text/html": [
       "<div>\n",
       "<style scoped>\n",
       "    .dataframe tbody tr th:only-of-type {\n",
       "        vertical-align: middle;\n",
       "    }\n",
       "\n",
       "    .dataframe tbody tr th {\n",
       "        vertical-align: top;\n",
       "    }\n",
       "\n",
       "    .dataframe thead th {\n",
       "        text-align: right;\n",
       "    }\n",
       "</style>\n",
       "<table border=\"1\" class=\"dataframe\">\n",
       "  <thead>\n",
       "    <tr style=\"text-align: right;\">\n",
       "      <th></th>\n",
       "      <th>release_year</th>\n",
       "      <th>cantidad</th>\n",
       "      <th>developer</th>\n",
       "      <th>cantidad_pos</th>\n",
       "      <th>total</th>\n",
       "    </tr>\n",
       "  </thead>\n",
       "  <tbody>\n",
       "    <tr>\n",
       "      <th>1</th>\n",
       "      <td>1990</td>\n",
       "      <td>2</td>\n",
       "      <td>LucasArts</td>\n",
       "      <td>1</td>\n",
       "      <td>0.5</td>\n",
       "    </tr>\n",
       "    <tr>\n",
       "      <th>2</th>\n",
       "      <td>1990</td>\n",
       "      <td>2</td>\n",
       "      <td>id Software</td>\n",
       "      <td>1</td>\n",
       "      <td>0.5</td>\n",
       "    </tr>\n",
       "  </tbody>\n",
       "</table>\n",
       "</div>"
      ],
      "text/plain": [
       "   release_year  cantidad    developer  cantidad_pos  total\n",
       "1          1990         2    LucasArts             1    0.5\n",
       "2          1990         2  id Software             1    0.5"
      ]
     },
     "execution_count": 48,
     "metadata": {},
     "output_type": "execute_result"
    }
   ],
   "source": [
    "filtro=resultado[resultado['release_year']==1990]\n",
    "filtro"
   ]
  },
  {
   "cell_type": "code",
   "execution_count": 46,
   "metadata": {},
   "outputs": [],
   "source": [
    "try:\n",
    "    # Código que puede generar una excepción\n",
    "    dev1=filtro.iloc[0]['developer']\n",
    "except Exception as e:\n",
    "    # Manejo de cualquier otra excepción no especificada anteriormente\n",
    "    dev1='ninguno'\n",
    "    print(\"Ocurrió un error:\", e)"
   ]
  },
  {
   "cell_type": "code",
   "execution_count": 47,
   "metadata": {},
   "outputs": [
    {
     "data": {
      "text/plain": [
       "'LucasArts'"
      ]
     },
     "execution_count": 47,
     "metadata": {},
     "output_type": "execute_result"
    }
   ],
   "source": [
    "dev1"
   ]
  },
  {
   "cell_type": "code",
   "execution_count": 39,
   "metadata": {},
   "outputs": [
    {
     "data": {
      "text/plain": [
       "release_year           1990\n",
       "cantidad                  2\n",
       "developer       id Software\n",
       "cantidad_pos              1\n",
       "total                   0.5\n",
       "Name: 2, dtype: object"
      ]
     },
     "execution_count": 39,
     "metadata": {},
     "output_type": "execute_result"
    }
   ],
   "source": [
    "filtro.iloc[1]"
   ]
  },
  {
   "cell_type": "code",
   "execution_count": null,
   "metadata": {},
   "outputs": [],
   "source": []
  },
  {
   "cell_type": "code",
   "execution_count": null,
   "metadata": {},
   "outputs": [],
   "source": [
    "filtrado=df_total[df_total['release_year']==2015].groupby(['release_year', 'user_id'])['price'].agg([('%recomendado',lambda x:(x==0.00).sum()),('Totoal elementos','sum')])\n",
    "\n",
    "# Agrupado\n",
    "filtrado=df_total[df_total['publisher']==\"Ubisoft\"].groupby('release_year')['price'].agg([('Cantidad free',lambda x:(x==0.00).sum()),('Totoal elementos','count')]).reset_index()\n",
    "filtrado"
   ]
  },
  {
   "cell_type": "code",
   "execution_count": 142,
   "metadata": {},
   "outputs": [
    {
     "name": "stdout",
     "output_type": "stream",
     "text": [
      "    año desarrollador  horas_trabajadas\n",
      "0  2019         Alice                70\n",
      "1  2019           Bob                35\n",
      "2  2020         Alice                45\n",
      "3  2020       Charlie                50\n",
      "4  2021           Bob                35\n",
      "5  2021       Charlie                55\n"
     ]
    }
   ],
   "source": [
    "import pandas as pd\n",
    "\n",
    "# Crear un DataFrame de ejemplo\n",
    "data = {\n",
    "    'año': [2019, 2019, 2019,2020, 2020, 2021, 2021],\n",
    "    'desarrollador': ['Alice', 'Alice','Bob', 'Alice', 'Charlie', 'Bob', 'Charlie'],\n",
    "    'horas_trabajadas': [40, 30,35, 45, 50, 35, 55]\n",
    "}\n",
    "\n",
    "df = pd.DataFrame(data)\n",
    "\n",
    "# Agrupar por año y desarrollador y calcular la suma de horas trabajadas\n",
    "resultados = df.groupby(['año', 'desarrollador'])['horas_trabajadas'].sum().reset_index()\n",
    "\n",
    "# Imprimir el resultado\n",
    "print(resultados)"
   ]
  }
 ],
 "metadata": {
  "kernelspec": {
   "display_name": "steam",
   "language": "python",
   "name": "python3"
  },
  "language_info": {
   "codemirror_mode": {
    "name": "ipython",
    "version": 3
   },
   "file_extension": ".py",
   "mimetype": "text/x-python",
   "name": "python",
   "nbconvert_exporter": "python",
   "pygments_lexer": "ipython3",
   "version": "3.11.4"
  }
 },
 "nbformat": 4,
 "nbformat_minor": 2
}
